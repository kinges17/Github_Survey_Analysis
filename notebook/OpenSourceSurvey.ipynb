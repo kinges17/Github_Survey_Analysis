{
 "cells": [
  {
   "cell_type": "markdown",
   "metadata": {},
   "source": [
    "# CS2006 Python 2 Practical\n",
    "\n",
    "### 170000801 and 170005146\n",
    "\n",
    "## Introduction\n",
    "\n",
    "Taking the hat of a data scientist, the goal of this practical was to learn how to perform data analysis using <tt>pandas</tt> and <tt>matplotlib</tt>. With the intention of gathering a deeper insight of the users of GitHub, we refined and mined responses from the 2017 GitHub Open Source Survey.\n",
    "\n",
    "To use this notebook, please make sure to have the following dependencies installed:\n",
    "<ul>\n",
    "    <li>pandas (including pandas.api.types and pandas.plotting)</li>\n",
    "    <li>numpy</li>\n",
    "    <li>matplotlib (including matplotlib.pyplot)</li>\n",
    "    <li>mpl_toolkits.mplot3d</li>\n",
    "    <li>datetime</li>\n",
    "    <li>collections</li>\n",
    "</ul>\n",
    "\n",
    "## A Brief Overview of Completeness with Respect to the Specifications\n",
    "\n",
    "#### Basic Requirements\n",
    "\n",
    "We have completed the basic requirements as follows (paraphrased from the specifications):\n",
    "<ul>\n",
    "    <li>Refine the data set by checking there are no duplicates or inconsistent entries.</li>\n",
    "    <li>Save a new file of refined data where duplicates or inconsistencies are found.</li>\n",
    "    <li>Automate and document refinement.</li>\n",
    "    <li>Perform descriptive analysis of the data set: total records, questionnaires fully vs partially completed, questionnaires completed by GitHub visitors vs outside communities, how many communities were involved (and how many questionnaires were filled in by members of each community).</li>\n",
    "    <li>Calculate the percentage of respondents who participated in each participation option.</li>\n",
    "    <li>Build a pie chart representing the number of answers to a question that only allows a single choice, such as employment status or age.</li>\n",
    "    <li>Plot a bar chart showing the percentage of respondents participating in open source projects in each of the specified ways.</li>\n",
    "</ul>\n",
    "\n",
    "#### Additional Requirements\n",
    "\n",
    "We have completed all but the final extension, with some additional analyses of our own choosing:\n",
    "<ul>\n",
    "    <li>Plot the timeline of data collection.</li>\n",
    "    <li>Produce two summary tables for two grid questions. Use these tables to build stacked bar charts.</li>\n",
    "    <li>We have produced a third summary table and stacked bar chart set.</li>\n",
    "    <li>Use the summary tables to produce unstacked 3D bar charts. Explain which visualization is more informative.</li>\n",
    "    <li>We have produced a third 3D unstacked bar chart to support our third summary table and stacked bar chart.</li>\n",
    "    <li>Additional analysis on the impact of employment status on a respondent's likelihood to contribute to open source development.</li>\n",
    "    <li>Additional analysis on the impact of a respondent's age of first regular access to a computer with internet on their likelihood to contribute.</li>\n",
    "    <li>Additional analysis on the gender and transgender identities of respondents.</li>\n",
    "    <li>Additional analysis on the gender and sexual orientation of respondents.</li>\n",
    "    <li>Additional analysis on the impact of formal education on a respondent's employment status.</li>\n",
    "    <li>We did not have time to implement interactive visualizations for any of the above.</li>\n",
    "</ul>\n",
    "\n",
    "## Into the Data\n",
    "\n",
    "To view the raw data in csv format, please navigate back a directory, then into the <tt>data</tt> directory. There are two files: the original raw data (<tt>data.csv</tt>) and the refined data (<tt>refined.csv</tt>). Additionally, the <tt>data</tt> directory contains a file (<tt>data_notes.txt</tt>) that describes key features of the data and a file (<tt>questionnaire.pdf</tt>) that lists the questions prompting the data collected."
   ]
  },
  {
   "cell_type": "code",
   "execution_count": 1,
   "metadata": {},
   "outputs": [],
   "source": [
    "import pandas as pd\n",
    "from pandas.api.types import is_string_dtype, is_numeric_dtype, is_datetime64_any_dtype\n",
    "from datetime import datetime\n",
    "import numpy as np\n",
    "import matplotlib.pyplot as plt\n",
    "\n",
    "from verification import *"
   ]
  },
  {
   "cell_type": "markdown",
   "metadata": {},
   "source": [
    "## Refining and Verifying the Dataset\n",
    "\n",
    "First, let's take a look at the type of data produced by the survey and print the first 10 rows."
   ]
  },
  {
   "cell_type": "code",
   "execution_count": 2,
   "metadata": {},
   "outputs": [
    {
     "data": {
      "text/html": [
       "<div>\n",
       "<style scoped>\n",
       "    .dataframe tbody tr th:only-of-type {\n",
       "        vertical-align: middle;\n",
       "    }\n",
       "\n",
       "    .dataframe tbody tr th {\n",
       "        vertical-align: top;\n",
       "    }\n",
       "\n",
       "    .dataframe thead th {\n",
       "        text-align: right;\n",
       "    }\n",
       "</style>\n",
       "<table border=\"1\" class=\"dataframe\">\n",
       "  <thead>\n",
       "    <tr style=\"text-align: right;\">\n",
       "      <th></th>\n",
       "      <th>RESPONSE.ID</th>\n",
       "      <th>DATE.SUBMITTED</th>\n",
       "      <th>STATUS</th>\n",
       "      <th>PARTICIPATION.TYPE.FOLLOW</th>\n",
       "      <th>PARTICIPATION.TYPE.USE.APPLICATIONS</th>\n",
       "      <th>PARTICIPATION.TYPE.USE.DEPENDENCIES</th>\n",
       "      <th>PARTICIPATION.TYPE.CONTRIBUTE</th>\n",
       "      <th>PARTICIPATION.TYPE.OTHER</th>\n",
       "      <th>CONTRIBUTOR.TYPE.CONTRIBUTE.CODE</th>\n",
       "      <th>CONTRIBUTOR.TYPE.CONTRIBUTE.DOCS</th>\n",
       "      <th>...</th>\n",
       "      <th>WRITTEN.ENGLISH</th>\n",
       "      <th>AGE</th>\n",
       "      <th>FORMAL.EDUCATION</th>\n",
       "      <th>PARENTS.FORMAL.EDUCATION</th>\n",
       "      <th>AGE.AT.FIRST.COMPUTER.INTERNET</th>\n",
       "      <th>LOCATION.OF.FIRST.COMPUTER.INTERNET</th>\n",
       "      <th>PARTICIPATION.TYPE.ANY.REPONSE</th>\n",
       "      <th>POPULATION</th>\n",
       "      <th>OFF.SITE.ID</th>\n",
       "      <th>TRANSLATED</th>\n",
       "    </tr>\n",
       "  </thead>\n",
       "  <tbody>\n",
       "    <tr>\n",
       "      <th>0</th>\n",
       "      <td>45</td>\n",
       "      <td>3/21/17 14:56</td>\n",
       "      <td>Partial</td>\n",
       "      <td>1</td>\n",
       "      <td>1</td>\n",
       "      <td>1</td>\n",
       "      <td>1</td>\n",
       "      <td>0</td>\n",
       "      <td>NaN</td>\n",
       "      <td>NaN</td>\n",
       "      <td>...</td>\n",
       "      <td>NaN</td>\n",
       "      <td>NaN</td>\n",
       "      <td>NaN</td>\n",
       "      <td>NaN</td>\n",
       "      <td>NaN</td>\n",
       "      <td>NaN</td>\n",
       "      <td>1</td>\n",
       "      <td>github</td>\n",
       "      <td>NaN</td>\n",
       "      <td>0</td>\n",
       "    </tr>\n",
       "    <tr>\n",
       "      <th>1</th>\n",
       "      <td>46</td>\n",
       "      <td>3/21/17 15:30</td>\n",
       "      <td>Partial</td>\n",
       "      <td>1</td>\n",
       "      <td>0</td>\n",
       "      <td>0</td>\n",
       "      <td>0</td>\n",
       "      <td>0</td>\n",
       "      <td>NaN</td>\n",
       "      <td>NaN</td>\n",
       "      <td>...</td>\n",
       "      <td>NaN</td>\n",
       "      <td>NaN</td>\n",
       "      <td>NaN</td>\n",
       "      <td>NaN</td>\n",
       "      <td>NaN</td>\n",
       "      <td>NaN</td>\n",
       "      <td>1</td>\n",
       "      <td>github</td>\n",
       "      <td>NaN</td>\n",
       "      <td>0</td>\n",
       "    </tr>\n",
       "    <tr>\n",
       "      <th>2</th>\n",
       "      <td>47</td>\n",
       "      <td>3/21/17 15:19</td>\n",
       "      <td>Partial</td>\n",
       "      <td>1</td>\n",
       "      <td>1</td>\n",
       "      <td>1</td>\n",
       "      <td>1</td>\n",
       "      <td>0</td>\n",
       "      <td>NaN</td>\n",
       "      <td>NaN</td>\n",
       "      <td>...</td>\n",
       "      <td>NaN</td>\n",
       "      <td>NaN</td>\n",
       "      <td>NaN</td>\n",
       "      <td>NaN</td>\n",
       "      <td>NaN</td>\n",
       "      <td>NaN</td>\n",
       "      <td>1</td>\n",
       "      <td>github</td>\n",
       "      <td>NaN</td>\n",
       "      <td>0</td>\n",
       "    </tr>\n",
       "    <tr>\n",
       "      <th>3</th>\n",
       "      <td>48</td>\n",
       "      <td>3/21/17 15:42</td>\n",
       "      <td>Complete</td>\n",
       "      <td>1</td>\n",
       "      <td>1</td>\n",
       "      <td>1</td>\n",
       "      <td>1</td>\n",
       "      <td>0</td>\n",
       "      <td>Frequently</td>\n",
       "      <td>Rarely</td>\n",
       "      <td>...</td>\n",
       "      <td>Very well</td>\n",
       "      <td>35 to 44 years</td>\n",
       "      <td>Bachelor's degree</td>\n",
       "      <td>Bachelor's degree</td>\n",
       "      <td>13 - 17 years old</td>\n",
       "      <td>At home (belonging to me or a family member)</td>\n",
       "      <td>1</td>\n",
       "      <td>github</td>\n",
       "      <td>NaN</td>\n",
       "      <td>0</td>\n",
       "    </tr>\n",
       "    <tr>\n",
       "      <th>4</th>\n",
       "      <td>49</td>\n",
       "      <td>3/21/17 15:38</td>\n",
       "      <td>Complete</td>\n",
       "      <td>1</td>\n",
       "      <td>1</td>\n",
       "      <td>1</td>\n",
       "      <td>1</td>\n",
       "      <td>0</td>\n",
       "      <td>Occasionally</td>\n",
       "      <td>Rarely</td>\n",
       "      <td>...</td>\n",
       "      <td>Very well</td>\n",
       "      <td>17 or younger</td>\n",
       "      <td>Secondary (high) school graduate or equivalent</td>\n",
       "      <td>Master's degree</td>\n",
       "      <td>Younger than 13 years old</td>\n",
       "      <td>At home (belonging to me or a family member)</td>\n",
       "      <td>1</td>\n",
       "      <td>github</td>\n",
       "      <td>NaN</td>\n",
       "      <td>0</td>\n",
       "    </tr>\n",
       "    <tr>\n",
       "      <th>5</th>\n",
       "      <td>50</td>\n",
       "      <td>3/21/17 15:34</td>\n",
       "      <td>Partial</td>\n",
       "      <td>0</td>\n",
       "      <td>1</td>\n",
       "      <td>1</td>\n",
       "      <td>1</td>\n",
       "      <td>0</td>\n",
       "      <td>Rarely</td>\n",
       "      <td>Never</td>\n",
       "      <td>...</td>\n",
       "      <td>NaN</td>\n",
       "      <td>NaN</td>\n",
       "      <td>NaN</td>\n",
       "      <td>NaN</td>\n",
       "      <td>NaN</td>\n",
       "      <td>NaN</td>\n",
       "      <td>1</td>\n",
       "      <td>github</td>\n",
       "      <td>NaN</td>\n",
       "      <td>0</td>\n",
       "    </tr>\n",
       "    <tr>\n",
       "      <th>6</th>\n",
       "      <td>51</td>\n",
       "      <td>3/21/17 15:41</td>\n",
       "      <td>Complete</td>\n",
       "      <td>1</td>\n",
       "      <td>1</td>\n",
       "      <td>1</td>\n",
       "      <td>0</td>\n",
       "      <td>0</td>\n",
       "      <td>NaN</td>\n",
       "      <td>NaN</td>\n",
       "      <td>...</td>\n",
       "      <td>Very well</td>\n",
       "      <td>35 to 44 years</td>\n",
       "      <td>Vocational/trade program or apprenticeship</td>\n",
       "      <td>Bachelor's degree</td>\n",
       "      <td>13 - 17 years old</td>\n",
       "      <td>At home (belonging to me or a family member)</td>\n",
       "      <td>1</td>\n",
       "      <td>github</td>\n",
       "      <td>NaN</td>\n",
       "      <td>0</td>\n",
       "    </tr>\n",
       "    <tr>\n",
       "      <th>7</th>\n",
       "      <td>52</td>\n",
       "      <td>3/21/17 16:00</td>\n",
       "      <td>Complete</td>\n",
       "      <td>1</td>\n",
       "      <td>1</td>\n",
       "      <td>1</td>\n",
       "      <td>1</td>\n",
       "      <td>1</td>\n",
       "      <td>Frequently</td>\n",
       "      <td>Frequently</td>\n",
       "      <td>...</td>\n",
       "      <td>Very well</td>\n",
       "      <td>25 to 34 years</td>\n",
       "      <td>Master's degree</td>\n",
       "      <td>Bachelor's degree</td>\n",
       "      <td>Younger than 13 years old</td>\n",
       "      <td>At home (belonging to me or a family member)</td>\n",
       "      <td>1</td>\n",
       "      <td>github</td>\n",
       "      <td>NaN</td>\n",
       "      <td>0</td>\n",
       "    </tr>\n",
       "    <tr>\n",
       "      <th>8</th>\n",
       "      <td>53</td>\n",
       "      <td>3/21/17 15:41</td>\n",
       "      <td>Partial</td>\n",
       "      <td>1</td>\n",
       "      <td>1</td>\n",
       "      <td>1</td>\n",
       "      <td>1</td>\n",
       "      <td>0</td>\n",
       "      <td>Rarely</td>\n",
       "      <td>Never</td>\n",
       "      <td>...</td>\n",
       "      <td>NaN</td>\n",
       "      <td>NaN</td>\n",
       "      <td>NaN</td>\n",
       "      <td>NaN</td>\n",
       "      <td>NaN</td>\n",
       "      <td>NaN</td>\n",
       "      <td>1</td>\n",
       "      <td>github</td>\n",
       "      <td>NaN</td>\n",
       "      <td>0</td>\n",
       "    </tr>\n",
       "    <tr>\n",
       "      <th>9</th>\n",
       "      <td>55</td>\n",
       "      <td>3/21/17 16:12</td>\n",
       "      <td>Complete</td>\n",
       "      <td>1</td>\n",
       "      <td>1</td>\n",
       "      <td>1</td>\n",
       "      <td>1</td>\n",
       "      <td>0</td>\n",
       "      <td>Frequently</td>\n",
       "      <td>Rarely</td>\n",
       "      <td>...</td>\n",
       "      <td>Very well</td>\n",
       "      <td>18 to 24 years</td>\n",
       "      <td>Secondary (high) school graduate or equivalent</td>\n",
       "      <td>Doctorate (Ph.D.) or other advanced degree (e....</td>\n",
       "      <td>13 - 17 years old</td>\n",
       "      <td>At home (belonging to me or a family member)</td>\n",
       "      <td>1</td>\n",
       "      <td>github</td>\n",
       "      <td>NaN</td>\n",
       "      <td>0</td>\n",
       "    </tr>\n",
       "  </tbody>\n",
       "</table>\n",
       "<p>10 rows × 93 columns</p>\n",
       "</div>"
      ],
      "text/plain": [
       "   RESPONSE.ID DATE.SUBMITTED    STATUS  PARTICIPATION.TYPE.FOLLOW  \\\n",
       "0           45  3/21/17 14:56   Partial                          1   \n",
       "1           46  3/21/17 15:30   Partial                          1   \n",
       "2           47  3/21/17 15:19   Partial                          1   \n",
       "3           48  3/21/17 15:42  Complete                          1   \n",
       "4           49  3/21/17 15:38  Complete                          1   \n",
       "5           50  3/21/17 15:34   Partial                          0   \n",
       "6           51  3/21/17 15:41  Complete                          1   \n",
       "7           52  3/21/17 16:00  Complete                          1   \n",
       "8           53  3/21/17 15:41   Partial                          1   \n",
       "9           55  3/21/17 16:12  Complete                          1   \n",
       "\n",
       "   PARTICIPATION.TYPE.USE.APPLICATIONS  PARTICIPATION.TYPE.USE.DEPENDENCIES  \\\n",
       "0                                    1                                    1   \n",
       "1                                    0                                    0   \n",
       "2                                    1                                    1   \n",
       "3                                    1                                    1   \n",
       "4                                    1                                    1   \n",
       "5                                    1                                    1   \n",
       "6                                    1                                    1   \n",
       "7                                    1                                    1   \n",
       "8                                    1                                    1   \n",
       "9                                    1                                    1   \n",
       "\n",
       "   PARTICIPATION.TYPE.CONTRIBUTE  PARTICIPATION.TYPE.OTHER  \\\n",
       "0                              1                         0   \n",
       "1                              0                         0   \n",
       "2                              1                         0   \n",
       "3                              1                         0   \n",
       "4                              1                         0   \n",
       "5                              1                         0   \n",
       "6                              0                         0   \n",
       "7                              1                         1   \n",
       "8                              1                         0   \n",
       "9                              1                         0   \n",
       "\n",
       "  CONTRIBUTOR.TYPE.CONTRIBUTE.CODE CONTRIBUTOR.TYPE.CONTRIBUTE.DOCS  ...  \\\n",
       "0                              NaN                              NaN  ...   \n",
       "1                              NaN                              NaN  ...   \n",
       "2                              NaN                              NaN  ...   \n",
       "3                       Frequently                           Rarely  ...   \n",
       "4                     Occasionally                           Rarely  ...   \n",
       "5                           Rarely                            Never  ...   \n",
       "6                              NaN                              NaN  ...   \n",
       "7                       Frequently                       Frequently  ...   \n",
       "8                           Rarely                            Never  ...   \n",
       "9                       Frequently                           Rarely  ...   \n",
       "\n",
       "  WRITTEN.ENGLISH             AGE  \\\n",
       "0             NaN             NaN   \n",
       "1             NaN             NaN   \n",
       "2             NaN             NaN   \n",
       "3       Very well  35 to 44 years   \n",
       "4       Very well   17 or younger   \n",
       "5             NaN             NaN   \n",
       "6       Very well  35 to 44 years   \n",
       "7       Very well  25 to 34 years   \n",
       "8             NaN             NaN   \n",
       "9       Very well  18 to 24 years   \n",
       "\n",
       "                                 FORMAL.EDUCATION  \\\n",
       "0                                             NaN   \n",
       "1                                             NaN   \n",
       "2                                             NaN   \n",
       "3                               Bachelor's degree   \n",
       "4  Secondary (high) school graduate or equivalent   \n",
       "5                                             NaN   \n",
       "6      Vocational/trade program or apprenticeship   \n",
       "7                                 Master's degree   \n",
       "8                                             NaN   \n",
       "9  Secondary (high) school graduate or equivalent   \n",
       "\n",
       "                            PARENTS.FORMAL.EDUCATION  \\\n",
       "0                                                NaN   \n",
       "1                                                NaN   \n",
       "2                                                NaN   \n",
       "3                                  Bachelor's degree   \n",
       "4                                    Master's degree   \n",
       "5                                                NaN   \n",
       "6                                  Bachelor's degree   \n",
       "7                                  Bachelor's degree   \n",
       "8                                                NaN   \n",
       "9  Doctorate (Ph.D.) or other advanced degree (e....   \n",
       "\n",
       "  AGE.AT.FIRST.COMPUTER.INTERNET  \\\n",
       "0                            NaN   \n",
       "1                            NaN   \n",
       "2                            NaN   \n",
       "3              13 - 17 years old   \n",
       "4      Younger than 13 years old   \n",
       "5                            NaN   \n",
       "6              13 - 17 years old   \n",
       "7      Younger than 13 years old   \n",
       "8                            NaN   \n",
       "9              13 - 17 years old   \n",
       "\n",
       "            LOCATION.OF.FIRST.COMPUTER.INTERNET  \\\n",
       "0                                           NaN   \n",
       "1                                           NaN   \n",
       "2                                           NaN   \n",
       "3  At home (belonging to me or a family member)   \n",
       "4  At home (belonging to me or a family member)   \n",
       "5                                           NaN   \n",
       "6  At home (belonging to me or a family member)   \n",
       "7  At home (belonging to me or a family member)   \n",
       "8                                           NaN   \n",
       "9  At home (belonging to me or a family member)   \n",
       "\n",
       "  PARTICIPATION.TYPE.ANY.REPONSE POPULATION OFF.SITE.ID TRANSLATED  \n",
       "0                              1     github         NaN          0  \n",
       "1                              1     github         NaN          0  \n",
       "2                              1     github         NaN          0  \n",
       "3                              1     github         NaN          0  \n",
       "4                              1     github         NaN          0  \n",
       "5                              1     github         NaN          0  \n",
       "6                              1     github         NaN          0  \n",
       "7                              1     github         NaN          0  \n",
       "8                              1     github         NaN          0  \n",
       "9                              1     github         NaN          0  \n",
       "\n",
       "[10 rows x 93 columns]"
      ]
     },
     "execution_count": 2,
     "metadata": {},
     "output_type": "execute_result"
    }
   ],
   "source": [
    "df = pd.read_csv(\"../data/survey_data.csv\")\n",
    "df.head(10)"
   ]
  },
  {
   "cell_type": "markdown",
   "metadata": {},
   "source": [
    "The data set is readable and non-corrupted; therefore, it passes the first stage of refinement.\n",
    "\n",
    "Comparing what we know from the <tt>questionnaire.txt</tt> file to what is shown above, it is clear that some questions consume more than a single column: there are 52 questions but 93 columns. Additionally, most columns in the dataframe appear to be either an integer (RESPONSE.ID; 0 or 1 for PARTICIPATION.TYPE.... questions and TRANSLATED) or an object (for dates or strings). These attributes will be more closely investigated later, once the data is refined.\n",
    "\n",
    "To get an idea of how complete the data set is, let's calculate the percentage of cells that are <tt>NaN</tt>, or Not a Number. To do so, a <tt>percentage</tt> function has been provided below."
   ]
  },
  {
   "cell_type": "code",
   "execution_count": 3,
   "metadata": {},
   "outputs": [],
   "source": [
    "def percentage(part, whole):\n",
    "    ans = (part/whole) * 100\n",
    "    return ans"
   ]
  },
  {
   "cell_type": "code",
   "execution_count": 4,
   "metadata": {},
   "outputs": [
    {
     "name": "stdout",
     "output_type": "stream",
     "text": [
      "Total cells: 560697.\n",
      "Null cells:  186041 , accounting for 33.18% of the data.\n"
     ]
    }
   ],
   "source": [
    "cell_count = df.size\n",
    "print(\"Total cells: {}.\".format(cell_count))\n",
    "\n",
    "nanDF = df.isna().sum()\n",
    "nans = 0\n",
    "for item in nanDF:\n",
    "    nans += item\n",
    "    \n",
    "print(\"Null cells: \", nans, \", accounting for {0:.2f}% of the data.\".format(percentage(nans, cell_count)))"
   ]
  },
  {
   "cell_type": "markdown",
   "metadata": {},
   "source": [
    "From the above calculation, it is evident that the data set is approximately 2/3 complete. If there is any invalid data in the set, this percentage will grow in the refinement process as illegal answers (where a question that should have been hidden was answered) and invalid answers (where the answer that was recorded is not one of the choices) will be overwritten to <tt>NaN</tt>. This will be discussed in more detail once the data is at the third level of control."
   ]
  },
  {
   "cell_type": "markdown",
   "metadata": {},
   "source": [
    "To refine the data, the first step is to check if there are any duplicates. While at first glance it may seem arbitrary to check the whole dataframe (as opposed to simply the RESPONSE.ID column) for duplicates, this subtle difference is significant. If there was an error where two separate responses received the same ID, checking only the ID column could result in dropping relevant data. As the <tt>drop_duplicates</tt> function is relatively quick, it is worth checking the whole frame.\n",
    "\n",
    "While this set of survey data does not contain duplicates, to improve reusability, the below test also includes a print statement to inform the percentage of the original dataset that has been removed, if any. To calculate the percent, the <tt>percentage</tt> function above is reused."
   ]
  },
  {
   "cell_type": "code",
   "execution_count": 5,
   "metadata": {},
   "outputs": [
    {
     "name": "stdout",
     "output_type": "stream",
     "text": [
      "No duplicates found.\n",
      "6029 records remain.\n"
     ]
    }
   ],
   "source": [
    "sizeBefore = len(df)\n",
    "df = df.drop_duplicates()\n",
    "\n",
    "size = len(df)\n",
    "diff = sizeBefore - size\n",
    "\n",
    "if diff > 0:     \n",
    "    print(\"{} duplicates, accounting for {}% of the data have been removed.\".format(diff, percentage(diff, size)))\n",
    "\n",
    "else: \n",
    "    print(\"No duplicates found.\")\n",
    "    \n",
    "print(\"{} records remain.\".format(size))"
   ]
  },
  {
   "cell_type": "markdown",
   "metadata": {},
   "source": [
    "Next, it is necessary to assert that each column contains only the expected type and that this type fits the schema defined in <tt>questionnaire</tt>. This ensures no invalid responses are used in the analyses later on. First, let's examine the types of each columns (<tt>dtypes</tt>) and how many non-null entries are in each column (<tt>info</tt>)."
   ]
  },
  {
   "cell_type": "code",
   "execution_count": 6,
   "metadata": {},
   "outputs": [
    {
     "data": {
      "text/plain": [
       "RESPONSE.ID                                          int64\n",
       "DATE.SUBMITTED                                      object\n",
       "STATUS                                              object\n",
       "PARTICIPATION.TYPE.FOLLOW                            int64\n",
       "PARTICIPATION.TYPE.USE.APPLICATIONS                  int64\n",
       "PARTICIPATION.TYPE.USE.DEPENDENCIES                  int64\n",
       "PARTICIPATION.TYPE.CONTRIBUTE                        int64\n",
       "PARTICIPATION.TYPE.OTHER                             int64\n",
       "CONTRIBUTOR.TYPE.CONTRIBUTE.CODE                    object\n",
       "CONTRIBUTOR.TYPE.CONTRIBUTE.DOCS                    object\n",
       "CONTRIBUTOR.TYPE.PROJECT.MAINTENANCE                object\n",
       "CONTRIBUTOR.TYPE.FILE.BUGS                          object\n",
       "CONTRIBUTOR.TYPE.FEATURE.REQUESTS                   object\n",
       "CONTRIBUTOR.TYPE.COMMUNITY.ADMIN                    object\n",
       "EMPLOYMENT.STATUS                                   object\n",
       "PROFESSIONAL.SOFTWARE                               object\n",
       "FUTURE.CONTRIBUTION.INTEREST                        object\n",
       "FUTURE.CONTRIBUTION.LIKELIHOOD                      object\n",
       "OSS.USER.PRIORITIES.LICENSE                         object\n",
       "OSS.USER.PRIORITIES.CODE.OF.CONDUCT                 object\n",
       "OSS.USER.PRIORITIES.CONTRIBUTING.GUIDE              object\n",
       "OSS.USER.PRIORITIES.CLA                             object\n",
       "OSS.USER.PRIORITIES.ACTIVE.DEVELOPMENT              object\n",
       "OSS.USER.PRIORITIES.RESPONSIVE.MAINTAINERS          object\n",
       "OSS.USER.PRIORITIES.WELCOMING.COMMUNITY             object\n",
       "OSS.USER.PRIORITIES.WIDESPREAD.USE                  object\n",
       "OSS.CONTRIBUTOR.PRIORITIES.LICENSE                  object\n",
       "OSS.CONTRIBUTOR.PRIORITIES.CODE.OF.CONDUCT          object\n",
       "OSS.CONTRIBUTOR.PRIORITIES.CONTRIBUTING.GUIDE       object\n",
       "OSS.CONTRIBUTOR.PRIORITIES.CLA                      object\n",
       "                                                     ...  \n",
       "HELPEE.PRIOR.RELATIONSHIP                           object\n",
       "PROVIDED.HELP.TYPE                                  object\n",
       "DISCOURAGING.BEHAVIOR.LACK.OF.RESPONSE              object\n",
       "DISCOURAGING.BEHAVIOR.REJECTION.WOUT.EXPLANATION    object\n",
       "DISCOURAGING.BEHAVIOR.DISMISSIVE.RESPONSE           object\n",
       "DISCOURAGING.BEHAVIOR.BAD.DOCS                      object\n",
       "DISCOURAGING.BEHAVIOR.CONFLICT                      object\n",
       "DISCOURAGING.BEHAVIOR.UNWELCOMING.LANGUAGE          object\n",
       "OSS.AS.JOB                                          object\n",
       "OSS.AT.WORK                                         object\n",
       "OSS.IP.POLICY                                       object\n",
       "EMPLOYER.POLICY.APPLICATIONS                        object\n",
       "EMPLOYER.POLICY.DEPENDENCIES                        object\n",
       "OSS.HIRING                                          object\n",
       "IMMIGRATION                                         object\n",
       "MINORITY.HOMECOUNTRY                                object\n",
       "MINORITY.CURRENT.COUNTRY                            object\n",
       "GENDER                                              object\n",
       "TRANSGENDER.IDENTITY                                object\n",
       "SEXUAL.ORIENTATION                                  object\n",
       "WRITTEN.ENGLISH                                     object\n",
       "AGE                                                 object\n",
       "FORMAL.EDUCATION                                    object\n",
       "PARENTS.FORMAL.EDUCATION                            object\n",
       "AGE.AT.FIRST.COMPUTER.INTERNET                      object\n",
       "LOCATION.OF.FIRST.COMPUTER.INTERNET                 object\n",
       "PARTICIPATION.TYPE.ANY.REPONSE                       int64\n",
       "POPULATION                                          object\n",
       "OFF.SITE.ID                                         object\n",
       "TRANSLATED                                           int64\n",
       "Length: 93, dtype: object"
      ]
     },
     "execution_count": 6,
     "metadata": {},
     "output_type": "execute_result"
    }
   ],
   "source": [
    "df.dtypes"
   ]
  },
  {
   "cell_type": "code",
   "execution_count": 7,
   "metadata": {
    "scrolled": true
   },
   "outputs": [
    {
     "name": "stdout",
     "output_type": "stream",
     "text": [
      "<class 'pandas.core.frame.DataFrame'>\n",
      "Int64Index: 6029 entries, 0 to 6028\n",
      "Data columns (total 93 columns):\n",
      "RESPONSE.ID                                          6029 non-null int64\n",
      "DATE.SUBMITTED                                       6029 non-null object\n",
      "STATUS                                               6029 non-null object\n",
      "PARTICIPATION.TYPE.FOLLOW                            6029 non-null int64\n",
      "PARTICIPATION.TYPE.USE.APPLICATIONS                  6029 non-null int64\n",
      "PARTICIPATION.TYPE.USE.DEPENDENCIES                  6029 non-null int64\n",
      "PARTICIPATION.TYPE.CONTRIBUTE                        6029 non-null int64\n",
      "PARTICIPATION.TYPE.OTHER                             6029 non-null int64\n",
      "CONTRIBUTOR.TYPE.CONTRIBUTE.CODE                     4033 non-null object\n",
      "CONTRIBUTOR.TYPE.CONTRIBUTE.DOCS                     4000 non-null object\n",
      "CONTRIBUTOR.TYPE.PROJECT.MAINTENANCE                 4004 non-null object\n",
      "CONTRIBUTOR.TYPE.FILE.BUGS                           4014 non-null object\n",
      "CONTRIBUTOR.TYPE.FEATURE.REQUESTS                    3995 non-null object\n",
      "CONTRIBUTOR.TYPE.COMMUNITY.ADMIN                     3983 non-null object\n",
      "EMPLOYMENT.STATUS                                    5600 non-null object\n",
      "PROFESSIONAL.SOFTWARE                                3907 non-null object\n",
      "FUTURE.CONTRIBUTION.INTEREST                         5508 non-null object\n",
      "FUTURE.CONTRIBUTION.LIKELIHOOD                       5511 non-null object\n",
      "OSS.USER.PRIORITIES.LICENSE                          4831 non-null object\n",
      "OSS.USER.PRIORITIES.CODE.OF.CONDUCT                  4797 non-null object\n",
      "OSS.USER.PRIORITIES.CONTRIBUTING.GUIDE               4813 non-null object\n",
      "OSS.USER.PRIORITIES.CLA                              4777 non-null object\n",
      "OSS.USER.PRIORITIES.ACTIVE.DEVELOPMENT               4834 non-null object\n",
      "OSS.USER.PRIORITIES.RESPONSIVE.MAINTAINERS           4813 non-null object\n",
      "OSS.USER.PRIORITIES.WELCOMING.COMMUNITY              4814 non-null object\n",
      "OSS.USER.PRIORITIES.WIDESPREAD.USE                   4816 non-null object\n",
      "OSS.CONTRIBUTOR.PRIORITIES.LICENSE                   3195 non-null object\n",
      "OSS.CONTRIBUTOR.PRIORITIES.CODE.OF.CONDUCT           3184 non-null object\n",
      "OSS.CONTRIBUTOR.PRIORITIES.CONTRIBUTING.GUIDE        3177 non-null object\n",
      "OSS.CONTRIBUTOR.PRIORITIES.CLA                       3170 non-null object\n",
      "OSS.CONTRIBUTOR.PRIORITIES.ACTIVE.DEVELOPMENT        3193 non-null object\n",
      "OSS.CONTRIBUTOR.PRIORITIES.RESPONSIVE.MAINTAINERS    3184 non-null object\n",
      "OSS.CONTRIBUTOR.PRIORITIES.WELCOMING.COMMUNITY       3186 non-null object\n",
      "OSS.CONTRIBUTOR.PRIORITIES.WIDESPREAD.USE            3181 non-null object\n",
      "SEEK.OPEN.SOURCE                                     4643 non-null object\n",
      "OSS.UX                                               4521 non-null object\n",
      "OSS.SECURITY                                         4520 non-null object\n",
      "OSS.STABILITY                                        4516 non-null object\n",
      "INTERNAL.EFFICACY                                    4457 non-null object\n",
      "EXTERNAL.EFFICACY                                    4452 non-null object\n",
      "OSS.IDENTIFICATION                                   4456 non-null object\n",
      "USER.VALUES.STABILITY                                4140 non-null object\n",
      "USER.VALUES.INNOVATION                               4117 non-null object\n",
      "USER.VALUES.REPLICABILITY                            4038 non-null object\n",
      "USER.VALUES.COMPATIBILITY                            4119 non-null object\n",
      "USER.VALUES.SECURITY                                 4133 non-null object\n",
      "USER.VALUES.COST                                     4126 non-null object\n",
      "USER.VALUES.TRANSPARENCY                             4108 non-null object\n",
      "USER.VALUES.USER.EXPERIENCE                          4127 non-null object\n",
      "USER.VALUES.CUSTOMIZABILITY                          4122 non-null object\n",
      "USER.VALUES.SUPPORT                                  4129 non-null object\n",
      "USER.VALUES.TRUSTED.PRODUCER                         4109 non-null object\n",
      "TRANSPARENCY.PRIVACY.BELIEFS                         4048 non-null object\n",
      "INFO.AVAILABILITY                                    4060 non-null object\n",
      "INFO.JOB                                             3965 non-null object\n",
      "TRANSPARENCY.PRIVACY.PRACTICES.GENERAL               4009 non-null object\n",
      "TRANSPARENCY.PRIVACY.PRACTICES.OSS                   2926 non-null object\n",
      "RECEIVED.HELP                                        3909 non-null object\n",
      "FIND.HELPER                                          2796 non-null object\n",
      "HELPER.PRIOR.RELATIONSHIP                            2793 non-null object\n",
      "RECEIVED.HELP.TYPE                                   2789 non-null object\n",
      "PROVIDED.HELP                                        3904 non-null object\n",
      "FIND.HELPEE                                          2838 non-null object\n",
      "HELPEE.PRIOR.RELATIONSHIP                            2839 non-null object\n",
      "PROVIDED.HELP.TYPE                                   2838 non-null object\n",
      "DISCOURAGING.BEHAVIOR.LACK.OF.RESPONSE               3809 non-null object\n",
      "DISCOURAGING.BEHAVIOR.REJECTION.WOUT.EXPLANATION     3790 non-null object\n",
      "DISCOURAGING.BEHAVIOR.DISMISSIVE.RESPONSE            3793 non-null object\n",
      "DISCOURAGING.BEHAVIOR.BAD.DOCS                       3822 non-null object\n",
      "DISCOURAGING.BEHAVIOR.CONFLICT                       3796 non-null object\n",
      "DISCOURAGING.BEHAVIOR.UNWELCOMING.LANGUAGE           3807 non-null object\n",
      "OSS.AS.JOB                                           2047 non-null object\n",
      "OSS.AT.WORK                                          2666 non-null object\n",
      "OSS.IP.POLICY                                        2641 non-null object\n",
      "EMPLOYER.POLICY.APPLICATIONS                         2641 non-null object\n",
      "EMPLOYER.POLICY.DEPENDENCIES                         2219 non-null object\n",
      "OSS.HIRING                                           2033 non-null object\n",
      "IMMIGRATION                                          3734 non-null object\n",
      "MINORITY.HOMECOUNTRY                                 957 non-null object\n",
      "MINORITY.CURRENT.COUNTRY                             3732 non-null object\n",
      "GENDER                                               3724 non-null object\n",
      "TRANSGENDER.IDENTITY                                 3715 non-null object\n",
      "SEXUAL.ORIENTATION                                   3719 non-null object\n",
      "WRITTEN.ENGLISH                                      3721 non-null object\n",
      "AGE                                                  3578 non-null object\n",
      "FORMAL.EDUCATION                                     3697 non-null object\n",
      "PARENTS.FORMAL.EDUCATION                             3673 non-null object\n",
      "AGE.AT.FIRST.COMPUTER.INTERNET                       3711 non-null object\n",
      "LOCATION.OF.FIRST.COMPUTER.INTERNET                  3711 non-null object\n",
      "PARTICIPATION.TYPE.ANY.REPONSE                       6029 non-null int64\n",
      "POPULATION                                           6029 non-null object\n",
      "OFF.SITE.ID                                          534 non-null object\n",
      "TRANSLATED                                           6029 non-null int64\n",
      "dtypes: int64(8), object(85)\n",
      "memory usage: 4.3+ MB\n"
     ]
    }
   ],
   "source": [
    "df.info()"
   ]
  },
  {
   "cell_type": "markdown",
   "metadata": {},
   "source": [
    "Examining the truncated result from <tt>df.dtypes()</tt>, it is clear that more rigorous verification is necesary. The print out of <tt>df.info()</tt> does indicate that all 8 numerical columns have been correctly identified (view <tt>numerical_cols</tt> in <tt>verification.py</tt> to see the full list). Unfortunately, it does not identify <tt>DATE.SUBMITTED</tt> as a datetime64 type. This means that it will be necessary to coerce this column into the appropriate date type.\n",
    "\n",
    "Additionally, <tt>info</tt> gives insight into the number of valid answers given for particular questions through the non-null counter. This information will be more relevant in the later refinement step involving checking question dependencies (ie. that questions marked as \"hidden\" are only answered if certain conditions are met).\n",
    "\n",
    "The file <tt>verification.py</tt> contains three functions to assist coercing data into the expected type. Additionally, this file contains the schema-defined lists of expected and acceptable values for each column. Please view <tt>verification.py</tt> to see these lists or for more details."
   ]
  },
  {
   "cell_type": "markdown",
   "metadata": {},
   "source": [
    "First, using <tt>enforce_col_types</tt>, columns are checked to contain the appropriate data type. If a column does not match the expected type, it is converted to NaN. For this survey, there are 8 columns that should contain integers, 1 column of dates and the remaining columns should be strings. This function will return a boolean value indicating if these conditions are met. If any fail, an error message is printed which indicates which type was not correctly matched. Where a column fails, it is necessary to refine the data of the column, and rerun the <tt>enforce_col_types</tt> function."
   ]
  },
  {
   "cell_type": "code",
   "execution_count": 8,
   "metadata": {
    "scrolled": true
   },
   "outputs": [
    {
     "name": "stdout",
     "output_type": "stream",
     "text": [
      "Finished enforcing column types.\n"
     ]
    }
   ],
   "source": [
    "df = enforce_col_types(df)"
   ]
  },
  {
   "cell_type": "markdown",
   "metadata": {},
   "source": [
    "Please note that sometimes the above function call takes several minutes to complete. Feel free to make a coffee; the kernel should be finished by the time you return.\n",
    "\n",
    "For more details on what this function does, please look at the comments in <tt>verification.py</tt>. Now that types have been enforced, let's print the dataframe again:"
   ]
  },
  {
   "cell_type": "code",
   "execution_count": 9,
   "metadata": {},
   "outputs": [
    {
     "name": "stdout",
     "output_type": "stream",
     "text": [
      "<class 'pandas.core.frame.DataFrame'>\n",
      "Int64Index: 6029 entries, 0 to 6028\n",
      "Data columns (total 93 columns):\n",
      "RESPONSE.ID                                          6029 non-null int64\n",
      "DATE.SUBMITTED                                       6029 non-null datetime64[ns]\n",
      "STATUS                                               6029 non-null object\n",
      "PARTICIPATION.TYPE.FOLLOW                            6029 non-null int64\n",
      "PARTICIPATION.TYPE.USE.APPLICATIONS                  6029 non-null int64\n",
      "PARTICIPATION.TYPE.USE.DEPENDENCIES                  6029 non-null int64\n",
      "PARTICIPATION.TYPE.CONTRIBUTE                        6029 non-null int64\n",
      "PARTICIPATION.TYPE.OTHER                             6029 non-null int64\n",
      "CONTRIBUTOR.TYPE.CONTRIBUTE.CODE                     4033 non-null object\n",
      "CONTRIBUTOR.TYPE.CONTRIBUTE.DOCS                     4000 non-null object\n",
      "CONTRIBUTOR.TYPE.PROJECT.MAINTENANCE                 4004 non-null object\n",
      "CONTRIBUTOR.TYPE.FILE.BUGS                           4014 non-null object\n",
      "CONTRIBUTOR.TYPE.FEATURE.REQUESTS                    3995 non-null object\n",
      "CONTRIBUTOR.TYPE.COMMUNITY.ADMIN                     3983 non-null object\n",
      "EMPLOYMENT.STATUS                                    5600 non-null object\n",
      "PROFESSIONAL.SOFTWARE                                3907 non-null object\n",
      "FUTURE.CONTRIBUTION.INTEREST                         5508 non-null object\n",
      "FUTURE.CONTRIBUTION.LIKELIHOOD                       5511 non-null object\n",
      "OSS.USER.PRIORITIES.LICENSE                          4831 non-null object\n",
      "OSS.USER.PRIORITIES.CODE.OF.CONDUCT                  4797 non-null object\n",
      "OSS.USER.PRIORITIES.CONTRIBUTING.GUIDE               4813 non-null object\n",
      "OSS.USER.PRIORITIES.CLA                              4777 non-null object\n",
      "OSS.USER.PRIORITIES.ACTIVE.DEVELOPMENT               4834 non-null object\n",
      "OSS.USER.PRIORITIES.RESPONSIVE.MAINTAINERS           4813 non-null object\n",
      "OSS.USER.PRIORITIES.WELCOMING.COMMUNITY              4814 non-null object\n",
      "OSS.USER.PRIORITIES.WIDESPREAD.USE                   4816 non-null object\n",
      "OSS.CONTRIBUTOR.PRIORITIES.LICENSE                   3195 non-null object\n",
      "OSS.CONTRIBUTOR.PRIORITIES.CODE.OF.CONDUCT           3184 non-null object\n",
      "OSS.CONTRIBUTOR.PRIORITIES.CONTRIBUTING.GUIDE        3177 non-null object\n",
      "OSS.CONTRIBUTOR.PRIORITIES.CLA                       3170 non-null object\n",
      "OSS.CONTRIBUTOR.PRIORITIES.ACTIVE.DEVELOPMENT        3193 non-null object\n",
      "OSS.CONTRIBUTOR.PRIORITIES.RESPONSIVE.MAINTAINERS    3184 non-null object\n",
      "OSS.CONTRIBUTOR.PRIORITIES.WELCOMING.COMMUNITY       3186 non-null object\n",
      "OSS.CONTRIBUTOR.PRIORITIES.WIDESPREAD.USE            3181 non-null object\n",
      "SEEK.OPEN.SOURCE                                     4643 non-null object\n",
      "OSS.UX                                               4521 non-null object\n",
      "OSS.SECURITY                                         4520 non-null object\n",
      "OSS.STABILITY                                        4516 non-null object\n",
      "INTERNAL.EFFICACY                                    4457 non-null object\n",
      "EXTERNAL.EFFICACY                                    4452 non-null object\n",
      "OSS.IDENTIFICATION                                   4456 non-null object\n",
      "USER.VALUES.STABILITY                                4140 non-null object\n",
      "USER.VALUES.INNOVATION                               4117 non-null object\n",
      "USER.VALUES.REPLICABILITY                            4038 non-null object\n",
      "USER.VALUES.COMPATIBILITY                            4119 non-null object\n",
      "USER.VALUES.SECURITY                                 4133 non-null object\n",
      "USER.VALUES.COST                                     4126 non-null object\n",
      "USER.VALUES.TRANSPARENCY                             4108 non-null object\n",
      "USER.VALUES.USER.EXPERIENCE                          4127 non-null object\n",
      "USER.VALUES.CUSTOMIZABILITY                          4122 non-null object\n",
      "USER.VALUES.SUPPORT                                  4129 non-null object\n",
      "USER.VALUES.TRUSTED.PRODUCER                         4109 non-null object\n",
      "TRANSPARENCY.PRIVACY.BELIEFS                         4048 non-null object\n",
      "INFO.AVAILABILITY                                    4060 non-null object\n",
      "INFO.JOB                                             3965 non-null object\n",
      "TRANSPARENCY.PRIVACY.PRACTICES.GENERAL               4009 non-null object\n",
      "TRANSPARENCY.PRIVACY.PRACTICES.OSS                   2926 non-null object\n",
      "RECEIVED.HELP                                        3909 non-null object\n",
      "FIND.HELPER                                          2796 non-null object\n",
      "HELPER.PRIOR.RELATIONSHIP                            2793 non-null object\n",
      "RECEIVED.HELP.TYPE                                   2789 non-null object\n",
      "PROVIDED.HELP                                        3904 non-null object\n",
      "FIND.HELPEE                                          2838 non-null object\n",
      "HELPEE.PRIOR.RELATIONSHIP                            2839 non-null object\n",
      "PROVIDED.HELP.TYPE                                   2838 non-null object\n",
      "DISCOURAGING.BEHAVIOR.LACK.OF.RESPONSE               3809 non-null object\n",
      "DISCOURAGING.BEHAVIOR.REJECTION.WOUT.EXPLANATION     3790 non-null object\n",
      "DISCOURAGING.BEHAVIOR.DISMISSIVE.RESPONSE            3793 non-null object\n",
      "DISCOURAGING.BEHAVIOR.BAD.DOCS                       3822 non-null object\n",
      "DISCOURAGING.BEHAVIOR.CONFLICT                       3796 non-null object\n",
      "DISCOURAGING.BEHAVIOR.UNWELCOMING.LANGUAGE           3807 non-null object\n",
      "OSS.AS.JOB                                           2047 non-null object\n",
      "OSS.AT.WORK                                          2666 non-null object\n",
      "OSS.IP.POLICY                                        2641 non-null object\n",
      "EMPLOYER.POLICY.APPLICATIONS                         2641 non-null object\n",
      "EMPLOYER.POLICY.DEPENDENCIES                         2219 non-null object\n",
      "OSS.HIRING                                           2033 non-null object\n",
      "IMMIGRATION                                          3734 non-null object\n",
      "MINORITY.HOMECOUNTRY                                 957 non-null object\n",
      "MINORITY.CURRENT.COUNTRY                             3732 non-null object\n",
      "GENDER                                               3724 non-null object\n",
      "TRANSGENDER.IDENTITY                                 3715 non-null object\n",
      "SEXUAL.ORIENTATION                                   3719 non-null object\n",
      "WRITTEN.ENGLISH                                      3721 non-null object\n",
      "AGE                                                  3578 non-null object\n",
      "FORMAL.EDUCATION                                     3697 non-null object\n",
      "PARENTS.FORMAL.EDUCATION                             3673 non-null object\n",
      "AGE.AT.FIRST.COMPUTER.INTERNET                       3711 non-null object\n",
      "LOCATION.OF.FIRST.COMPUTER.INTERNET                  3711 non-null object\n",
      "PARTICIPATION.TYPE.ANY.REPONSE                       6029 non-null int64\n",
      "POPULATION                                           6029 non-null object\n",
      "OFF.SITE.ID                                          534 non-null object\n",
      "TRANSLATED                                           6029 non-null int64\n",
      "dtypes: datetime64[ns](1), int64(8), object(84)\n",
      "memory usage: 4.3+ MB\n"
     ]
    }
   ],
   "source": [
    "df.info()"
   ]
  },
  {
   "cell_type": "markdown",
   "metadata": {},
   "source": [
    "The dataframe now has datetime64, int64 and object types in the appropriate columns. Let's check again how many <tt>nan</tt> values there are across the dataframe to see if enforcing type has generated or corrected any <tt>nan</tt> values. "
   ]
  },
  {
   "cell_type": "code",
   "execution_count": 10,
   "metadata": {},
   "outputs": [
    {
     "name": "stdout",
     "output_type": "stream",
     "text": [
      "186041 nulls before enforcing type.\n",
      "186041 nulls after enforcing type.\n",
      "0 nulls generated by enforcing type, increasing previously null data by 0.00%.\n"
     ]
    }
   ],
   "source": [
    "nanDF_after_type = df.isna().sum()\n",
    "nan_after_type = 0\n",
    "\n",
    "for item in nanDF_after_type:\n",
    "    nan_after_type += item\n",
    "    \n",
    "print(\"{} nulls before enforcing type.\".format(nans))\n",
    "print(\"{} nulls after enforcing type.\".format(nan_after_type))\n",
    "if nans > nan_after_type:\n",
    "    print(nans - nan_after_type,\"nulls corrected by enforcing type, accounting for {0:.2f}% of previously null data.\".format(percentage((nans - nan_after_type), nans)))\n",
    "else:\n",
    "    print(nan_after_type - nans,\"nulls generated by enforcing type, increasing previously null data by {0:.2f}%.\".format(percentage((nan_after_type - nans), nans)))"
   ]
  },
  {
   "cell_type": "markdown",
   "metadata": {},
   "source": [
    "The above calculation demonstrates that the data set passed in is unusually clean. If there were non-compliant values in a given column, type-coercion would force the invalid values to <tt>NaN</tt>. This would cause an increase in the <tt>NaN</tt> count.\n",
    "\n",
    "Notably, the <tt>enforce_col_types</tt> function also fills empty cells with <tt>NaN</tt>. Since in the survey it is not possible to answer a question \"incorrectly\" (no free-response questions have been included in the survey data), it is safe to fill empty responses with <tt>nan</tt>. Additionally, this will make later analysis preparation simpler, as the <tt>dropna</tt> function will be able to ignore all ineligible responses in a column. At this point, the data has been controlled to the second degree: type has been enforced and verified."
   ]
  },
  {
   "cell_type": "markdown",
   "metadata": {},
   "source": [
    "Next, let's get the data to the third level of control, where variables have only admissable values (or <tt>nan</tt>). To do so there are several options:\n",
    "\n",
    "<ul>\n",
    "    <li><tt>contains_acceptable_values(df, ALL)</tt></li>\n",
    "    <li><tt>contains_acceptable_values(df, col_name)</tt></li>\n",
    "    <li><tt>check_column(df, col_name, accepted_values)</tt></li>\n",
    "</ul>\n",
    "\n",
    "To simply run the test across the whole dataframe, the <tt>contains_acceptable_values</tt> function can be called with the second parameter, <tt>col_name</tt>, specified as <tt>\"all\"</tt> or <tt>\"ALL\"</tt>. Alternatively, if only an individual column needs to be checked, <tt>contains_acceptable_values</tt> can be called with the name of the column. Lastly, if a column needs to be checked against a list of values that aren't necessarily the expected responses, it is possible to directly call the helper function <tt>check_column</tt> with the specified list as the third parameter.\n",
    "\n",
    "When run, all of the above functions will return the number of entries that do not have a match in the <tt>accepted_values</tt> list. Ideally, this should be zero. Please note that this function ignores <tt>nan</tt> values, as these are used as placeholders to maintain the integrity of the rows. If an non-matching value is encountered, the location and unknown value is printed to allow examination and to help with further refinement. These print outs can then be used to help decide if the list of admissable values should be expanded or not. "
   ]
  },
  {
   "cell_type": "code",
   "execution_count": 11,
   "metadata": {
    "scrolled": false
   },
   "outputs": [
    {
     "name": "stdout",
     "output_type": "stream",
     "text": [
      "Invalid values encountered:\n",
      "    36 occurrences of \"65 years or older\"\n",
      "Summary: 36 errors across ALL\n"
     ]
    }
   ],
   "source": [
    "# Check the whole dataframe for simplicity\n",
    "contains_acceptable_values(df, \"ALL\")"
   ]
  },
  {
   "cell_type": "markdown",
   "metadata": {},
   "source": [
    "When first testing this function, the following \"non-compliant\" values were found:\n",
    "\n",
    "<ul>\n",
    "    <li><tt>Bachelor's degree</tt> instead of <tt>Bachelor\\D5s degree</tt> as the questionnaire implied the reponse would be</li>\n",
    "    <li><tt>Master's degree</tt> instead of <tt>Masters\\D5 degree</tt> as the questionnaire implied the reponse would be</li>\n",
    "    <li><tt>65 years or older</tt> was not originally listed as an admissable value for <tt>AGE</tt></li>\n",
    "    <li><tt>Introductions to other people.</tt> in addition to <tt>Introductions to other people</tt> (note the period at the end)</li>\n",
    "    <li><tt>Non-binary  or Other</tt> instead of <tt>Non-binary or Other</tt> (note the extra space before <tt>or</tt>)</li>\n",
    "    <li><tt>I take precautions to use different usernames  in different projects.</tt> in addition to <tt>I take precautions to use different usernames in different projects.</tt> (note the extra space after <tt>usernames</tt>)</li>\n",
    "    <li><tt>...pseudonym that is not linked anywhere with my real name online. </tt> in addition to <tt>...pseudonym that is not linked anywhere with my real name online.</tt> (note the extra space at the end)</li>\n",
    "</ul>\n",
    "\n",
    "<tt>Bachelor\\D5s degree</tt> and <tt>Masters\\D5 degree</tt> were likely caused by copying the original format of the questionnaire into a text file. The accepted values lists for <tt>PARENTS-FORMAL-EDUCATION</tt> and <tt>FORMAL-EDUCATION</tt> reflect this and now accept an apostrophe in place of <tt>\\D5</tt>.\n",
    "\n",
    "It was more difficult to decide how to handle the unexpected value of <tt>65 years or older</tt>. While not an option for the question, this answer makes logical sense for the question. However, this response branches between the accepted <tt>65 to 74 years</tt> and <tt>75 years or older</tt> options. Because it is not possible to sort this value into one subgroup or another, this value has not been added to the list of admissable values.\n",
    "\n",
    "The last several values listed are \"near-valid\" reponses, where the only difference may be spacing or punctuation. As these values are very close to the an expected value, they have been added to the acceped values list. \n",
    "\n",
    "With more time, I would have liked to have developed an algorithm to check values not listed in the expected list to see if they are a near match to a valid value. If so, I would have liked to have been able to reclassify them as the admissable value, instead of creating a separate category. While maintaining a separate category does offer some insight (how many respondents answered the question before the survey changed form, or how many records were impacted in copying errors), merging these near-valid answers may be more insightful.\n",
    "\n",
    "At this point if any errors remain that should not be added to the admissable values lists, it is time to clean them by setting them to <tt>NaN</tt>. The function <tt>clean_values</tt> does this by comparing all values of a given column against a list of accepted values. If the column entry is not an accepted value, then it is set to <tt>NaN</tt>."
   ]
  },
  {
   "cell_type": "code",
   "execution_count": 12,
   "metadata": {},
   "outputs": [
    {
     "name": "stdout",
     "output_type": "stream",
     "text": [
      "Cleaning of ALL has completed.\n"
     ]
    },
    {
     "data": {
      "text/html": [
       "<div>\n",
       "<style scoped>\n",
       "    .dataframe tbody tr th:only-of-type {\n",
       "        vertical-align: middle;\n",
       "    }\n",
       "\n",
       "    .dataframe tbody tr th {\n",
       "        vertical-align: top;\n",
       "    }\n",
       "\n",
       "    .dataframe thead th {\n",
       "        text-align: right;\n",
       "    }\n",
       "</style>\n",
       "<table border=\"1\" class=\"dataframe\">\n",
       "  <thead>\n",
       "    <tr style=\"text-align: right;\">\n",
       "      <th></th>\n",
       "      <th>RESPONSE.ID</th>\n",
       "      <th>DATE.SUBMITTED</th>\n",
       "      <th>STATUS</th>\n",
       "      <th>PARTICIPATION.TYPE.FOLLOW</th>\n",
       "      <th>PARTICIPATION.TYPE.USE.APPLICATIONS</th>\n",
       "      <th>PARTICIPATION.TYPE.USE.DEPENDENCIES</th>\n",
       "      <th>PARTICIPATION.TYPE.CONTRIBUTE</th>\n",
       "      <th>PARTICIPATION.TYPE.OTHER</th>\n",
       "      <th>CONTRIBUTOR.TYPE.CONTRIBUTE.CODE</th>\n",
       "      <th>CONTRIBUTOR.TYPE.CONTRIBUTE.DOCS</th>\n",
       "      <th>...</th>\n",
       "      <th>AGE</th>\n",
       "      <th>FORMAL.EDUCATION</th>\n",
       "      <th>PARENTS.FORMAL.EDUCATION</th>\n",
       "      <th>AGE.AT.FIRST.COMPUTER.INTERNET</th>\n",
       "      <th>LOCATION.OF.FIRST.COMPUTER.INTERNET</th>\n",
       "      <th>PARTICIPATION.TYPE.ANY.REPONSE</th>\n",
       "      <th>POPULATION</th>\n",
       "      <th>OFF.SITE.ID</th>\n",
       "      <th>TRANSLATED</th>\n",
       "      <th>ALL</th>\n",
       "    </tr>\n",
       "  </thead>\n",
       "  <tbody>\n",
       "    <tr>\n",
       "      <th>0</th>\n",
       "      <td>45</td>\n",
       "      <td>2017-03-21 14:56:00</td>\n",
       "      <td>Partial</td>\n",
       "      <td>1</td>\n",
       "      <td>1</td>\n",
       "      <td>1</td>\n",
       "      <td>1</td>\n",
       "      <td>0</td>\n",
       "      <td>NaN</td>\n",
       "      <td>NaN</td>\n",
       "      <td>...</td>\n",
       "      <td>NaN</td>\n",
       "      <td>NaN</td>\n",
       "      <td>NaN</td>\n",
       "      <td>NaN</td>\n",
       "      <td>NaN</td>\n",
       "      <td>1</td>\n",
       "      <td>github</td>\n",
       "      <td>NaN</td>\n",
       "      <td>0</td>\n",
       "      <td>0</td>\n",
       "    </tr>\n",
       "    <tr>\n",
       "      <th>1</th>\n",
       "      <td>46</td>\n",
       "      <td>2017-03-21 15:30:00</td>\n",
       "      <td>Partial</td>\n",
       "      <td>1</td>\n",
       "      <td>0</td>\n",
       "      <td>0</td>\n",
       "      <td>0</td>\n",
       "      <td>0</td>\n",
       "      <td>NaN</td>\n",
       "      <td>NaN</td>\n",
       "      <td>...</td>\n",
       "      <td>NaN</td>\n",
       "      <td>NaN</td>\n",
       "      <td>NaN</td>\n",
       "      <td>NaN</td>\n",
       "      <td>NaN</td>\n",
       "      <td>1</td>\n",
       "      <td>github</td>\n",
       "      <td>NaN</td>\n",
       "      <td>0</td>\n",
       "      <td>0</td>\n",
       "    </tr>\n",
       "    <tr>\n",
       "      <th>2</th>\n",
       "      <td>47</td>\n",
       "      <td>2017-03-21 15:19:00</td>\n",
       "      <td>Partial</td>\n",
       "      <td>1</td>\n",
       "      <td>1</td>\n",
       "      <td>1</td>\n",
       "      <td>1</td>\n",
       "      <td>0</td>\n",
       "      <td>NaN</td>\n",
       "      <td>NaN</td>\n",
       "      <td>...</td>\n",
       "      <td>NaN</td>\n",
       "      <td>NaN</td>\n",
       "      <td>NaN</td>\n",
       "      <td>NaN</td>\n",
       "      <td>NaN</td>\n",
       "      <td>1</td>\n",
       "      <td>github</td>\n",
       "      <td>NaN</td>\n",
       "      <td>0</td>\n",
       "      <td>0</td>\n",
       "    </tr>\n",
       "    <tr>\n",
       "      <th>3</th>\n",
       "      <td>48</td>\n",
       "      <td>2017-03-21 15:42:00</td>\n",
       "      <td>Complete</td>\n",
       "      <td>1</td>\n",
       "      <td>1</td>\n",
       "      <td>1</td>\n",
       "      <td>1</td>\n",
       "      <td>0</td>\n",
       "      <td>Frequently</td>\n",
       "      <td>Rarely</td>\n",
       "      <td>...</td>\n",
       "      <td>35 to 44 years</td>\n",
       "      <td>Bachelor's degree</td>\n",
       "      <td>Bachelor's degree</td>\n",
       "      <td>13 - 17 years old</td>\n",
       "      <td>At home (belonging to me or a family member)</td>\n",
       "      <td>1</td>\n",
       "      <td>github</td>\n",
       "      <td>NaN</td>\n",
       "      <td>0</td>\n",
       "      <td>0</td>\n",
       "    </tr>\n",
       "    <tr>\n",
       "      <th>4</th>\n",
       "      <td>49</td>\n",
       "      <td>2017-03-21 15:38:00</td>\n",
       "      <td>Complete</td>\n",
       "      <td>1</td>\n",
       "      <td>1</td>\n",
       "      <td>1</td>\n",
       "      <td>1</td>\n",
       "      <td>0</td>\n",
       "      <td>Occasionally</td>\n",
       "      <td>Rarely</td>\n",
       "      <td>...</td>\n",
       "      <td>17 or younger</td>\n",
       "      <td>Secondary (high) school graduate or equivalent</td>\n",
       "      <td>Master's degree</td>\n",
       "      <td>Younger than 13 years old</td>\n",
       "      <td>At home (belonging to me or a family member)</td>\n",
       "      <td>1</td>\n",
       "      <td>github</td>\n",
       "      <td>NaN</td>\n",
       "      <td>0</td>\n",
       "      <td>0</td>\n",
       "    </tr>\n",
       "    <tr>\n",
       "      <th>5</th>\n",
       "      <td>50</td>\n",
       "      <td>2017-03-21 15:34:00</td>\n",
       "      <td>Partial</td>\n",
       "      <td>0</td>\n",
       "      <td>1</td>\n",
       "      <td>1</td>\n",
       "      <td>1</td>\n",
       "      <td>0</td>\n",
       "      <td>Rarely</td>\n",
       "      <td>Never</td>\n",
       "      <td>...</td>\n",
       "      <td>NaN</td>\n",
       "      <td>NaN</td>\n",
       "      <td>NaN</td>\n",
       "      <td>NaN</td>\n",
       "      <td>NaN</td>\n",
       "      <td>1</td>\n",
       "      <td>github</td>\n",
       "      <td>NaN</td>\n",
       "      <td>0</td>\n",
       "      <td>0</td>\n",
       "    </tr>\n",
       "    <tr>\n",
       "      <th>6</th>\n",
       "      <td>51</td>\n",
       "      <td>2017-03-21 15:41:00</td>\n",
       "      <td>Complete</td>\n",
       "      <td>1</td>\n",
       "      <td>1</td>\n",
       "      <td>1</td>\n",
       "      <td>0</td>\n",
       "      <td>0</td>\n",
       "      <td>NaN</td>\n",
       "      <td>NaN</td>\n",
       "      <td>...</td>\n",
       "      <td>35 to 44 years</td>\n",
       "      <td>Vocational/trade program or apprenticeship</td>\n",
       "      <td>Bachelor's degree</td>\n",
       "      <td>13 - 17 years old</td>\n",
       "      <td>At home (belonging to me or a family member)</td>\n",
       "      <td>1</td>\n",
       "      <td>github</td>\n",
       "      <td>NaN</td>\n",
       "      <td>0</td>\n",
       "      <td>0</td>\n",
       "    </tr>\n",
       "    <tr>\n",
       "      <th>7</th>\n",
       "      <td>52</td>\n",
       "      <td>2017-03-21 16:00:00</td>\n",
       "      <td>Complete</td>\n",
       "      <td>1</td>\n",
       "      <td>1</td>\n",
       "      <td>1</td>\n",
       "      <td>1</td>\n",
       "      <td>1</td>\n",
       "      <td>Frequently</td>\n",
       "      <td>Frequently</td>\n",
       "      <td>...</td>\n",
       "      <td>25 to 34 years</td>\n",
       "      <td>Master's degree</td>\n",
       "      <td>Bachelor's degree</td>\n",
       "      <td>Younger than 13 years old</td>\n",
       "      <td>At home (belonging to me or a family member)</td>\n",
       "      <td>1</td>\n",
       "      <td>github</td>\n",
       "      <td>NaN</td>\n",
       "      <td>0</td>\n",
       "      <td>0</td>\n",
       "    </tr>\n",
       "    <tr>\n",
       "      <th>8</th>\n",
       "      <td>53</td>\n",
       "      <td>2017-03-21 15:41:00</td>\n",
       "      <td>Partial</td>\n",
       "      <td>1</td>\n",
       "      <td>1</td>\n",
       "      <td>1</td>\n",
       "      <td>1</td>\n",
       "      <td>0</td>\n",
       "      <td>Rarely</td>\n",
       "      <td>Never</td>\n",
       "      <td>...</td>\n",
       "      <td>NaN</td>\n",
       "      <td>NaN</td>\n",
       "      <td>NaN</td>\n",
       "      <td>NaN</td>\n",
       "      <td>NaN</td>\n",
       "      <td>1</td>\n",
       "      <td>github</td>\n",
       "      <td>NaN</td>\n",
       "      <td>0</td>\n",
       "      <td>0</td>\n",
       "    </tr>\n",
       "    <tr>\n",
       "      <th>9</th>\n",
       "      <td>55</td>\n",
       "      <td>2017-03-21 16:12:00</td>\n",
       "      <td>Complete</td>\n",
       "      <td>1</td>\n",
       "      <td>1</td>\n",
       "      <td>1</td>\n",
       "      <td>1</td>\n",
       "      <td>0</td>\n",
       "      <td>Frequently</td>\n",
       "      <td>Rarely</td>\n",
       "      <td>...</td>\n",
       "      <td>18 to 24 years</td>\n",
       "      <td>Secondary (high) school graduate or equivalent</td>\n",
       "      <td>Doctorate (Ph.D.) or other advanced degree (e....</td>\n",
       "      <td>13 - 17 years old</td>\n",
       "      <td>At home (belonging to me or a family member)</td>\n",
       "      <td>1</td>\n",
       "      <td>github</td>\n",
       "      <td>NaN</td>\n",
       "      <td>0</td>\n",
       "      <td>0</td>\n",
       "    </tr>\n",
       "  </tbody>\n",
       "</table>\n",
       "<p>10 rows × 94 columns</p>\n",
       "</div>"
      ],
      "text/plain": [
       "   RESPONSE.ID      DATE.SUBMITTED    STATUS  PARTICIPATION.TYPE.FOLLOW  \\\n",
       "0           45 2017-03-21 14:56:00   Partial                          1   \n",
       "1           46 2017-03-21 15:30:00   Partial                          1   \n",
       "2           47 2017-03-21 15:19:00   Partial                          1   \n",
       "3           48 2017-03-21 15:42:00  Complete                          1   \n",
       "4           49 2017-03-21 15:38:00  Complete                          1   \n",
       "5           50 2017-03-21 15:34:00   Partial                          0   \n",
       "6           51 2017-03-21 15:41:00  Complete                          1   \n",
       "7           52 2017-03-21 16:00:00  Complete                          1   \n",
       "8           53 2017-03-21 15:41:00   Partial                          1   \n",
       "9           55 2017-03-21 16:12:00  Complete                          1   \n",
       "\n",
       "   PARTICIPATION.TYPE.USE.APPLICATIONS  PARTICIPATION.TYPE.USE.DEPENDENCIES  \\\n",
       "0                                    1                                    1   \n",
       "1                                    0                                    0   \n",
       "2                                    1                                    1   \n",
       "3                                    1                                    1   \n",
       "4                                    1                                    1   \n",
       "5                                    1                                    1   \n",
       "6                                    1                                    1   \n",
       "7                                    1                                    1   \n",
       "8                                    1                                    1   \n",
       "9                                    1                                    1   \n",
       "\n",
       "   PARTICIPATION.TYPE.CONTRIBUTE  PARTICIPATION.TYPE.OTHER  \\\n",
       "0                              1                         0   \n",
       "1                              0                         0   \n",
       "2                              1                         0   \n",
       "3                              1                         0   \n",
       "4                              1                         0   \n",
       "5                              1                         0   \n",
       "6                              0                         0   \n",
       "7                              1                         1   \n",
       "8                              1                         0   \n",
       "9                              1                         0   \n",
       "\n",
       "  CONTRIBUTOR.TYPE.CONTRIBUTE.CODE CONTRIBUTOR.TYPE.CONTRIBUTE.DOCS  ...  \\\n",
       "0                              NaN                              NaN  ...   \n",
       "1                              NaN                              NaN  ...   \n",
       "2                              NaN                              NaN  ...   \n",
       "3                       Frequently                           Rarely  ...   \n",
       "4                     Occasionally                           Rarely  ...   \n",
       "5                           Rarely                            Never  ...   \n",
       "6                              NaN                              NaN  ...   \n",
       "7                       Frequently                       Frequently  ...   \n",
       "8                           Rarely                            Never  ...   \n",
       "9                       Frequently                           Rarely  ...   \n",
       "\n",
       "              AGE                                FORMAL.EDUCATION  \\\n",
       "0             NaN                                             NaN   \n",
       "1             NaN                                             NaN   \n",
       "2             NaN                                             NaN   \n",
       "3  35 to 44 years                               Bachelor's degree   \n",
       "4   17 or younger  Secondary (high) school graduate or equivalent   \n",
       "5             NaN                                             NaN   \n",
       "6  35 to 44 years      Vocational/trade program or apprenticeship   \n",
       "7  25 to 34 years                                 Master's degree   \n",
       "8             NaN                                             NaN   \n",
       "9  18 to 24 years  Secondary (high) school graduate or equivalent   \n",
       "\n",
       "                            PARENTS.FORMAL.EDUCATION  \\\n",
       "0                                                NaN   \n",
       "1                                                NaN   \n",
       "2                                                NaN   \n",
       "3                                  Bachelor's degree   \n",
       "4                                    Master's degree   \n",
       "5                                                NaN   \n",
       "6                                  Bachelor's degree   \n",
       "7                                  Bachelor's degree   \n",
       "8                                                NaN   \n",
       "9  Doctorate (Ph.D.) or other advanced degree (e....   \n",
       "\n",
       "  AGE.AT.FIRST.COMPUTER.INTERNET  \\\n",
       "0                            NaN   \n",
       "1                            NaN   \n",
       "2                            NaN   \n",
       "3              13 - 17 years old   \n",
       "4      Younger than 13 years old   \n",
       "5                            NaN   \n",
       "6              13 - 17 years old   \n",
       "7      Younger than 13 years old   \n",
       "8                            NaN   \n",
       "9              13 - 17 years old   \n",
       "\n",
       "            LOCATION.OF.FIRST.COMPUTER.INTERNET  \\\n",
       "0                                           NaN   \n",
       "1                                           NaN   \n",
       "2                                           NaN   \n",
       "3  At home (belonging to me or a family member)   \n",
       "4  At home (belonging to me or a family member)   \n",
       "5                                           NaN   \n",
       "6  At home (belonging to me or a family member)   \n",
       "7  At home (belonging to me or a family member)   \n",
       "8                                           NaN   \n",
       "9  At home (belonging to me or a family member)   \n",
       "\n",
       "  PARTICIPATION.TYPE.ANY.REPONSE POPULATION OFF.SITE.ID TRANSLATED ALL  \n",
       "0                              1     github         NaN          0   0  \n",
       "1                              1     github         NaN          0   0  \n",
       "2                              1     github         NaN          0   0  \n",
       "3                              1     github         NaN          0   0  \n",
       "4                              1     github         NaN          0   0  \n",
       "5                              1     github         NaN          0   0  \n",
       "6                              1     github         NaN          0   0  \n",
       "7                              1     github         NaN          0   0  \n",
       "8                              1     github         NaN          0   0  \n",
       "9                              1     github         NaN          0   0  \n",
       "\n",
       "[10 rows x 94 columns]"
      ]
     },
     "execution_count": 12,
     "metadata": {},
     "output_type": "execute_result"
    }
   ],
   "source": [
    "df = clean_values(df, \"ALL\")\n",
    "df.head(10)"
   ]
  },
  {
   "cell_type": "markdown",
   "metadata": {},
   "source": [
    "The data is now under the third level of control. By scrolling to the middle of the head of the dataframe (near the elipses), it is possible to see where the empty cells have been filled with <tt>NaN</tt>. Let's check the impact this had on the number of <tt>NaNs</tt> across the dataframe."
   ]
  },
  {
   "cell_type": "code",
   "execution_count": 13,
   "metadata": {},
   "outputs": [
    {
     "name": "stdout",
     "output_type": "stream",
     "text": [
      "186041 nulls before enforcing type.\n",
      "186077 nulls after enforcing type.\n",
      "36 nulls generated by cleaning.\n"
     ]
    }
   ],
   "source": [
    "nanDF_after_clean = df.isna().sum()\n",
    "nan_after_clean = 0\n",
    "\n",
    "for item in nanDF_after_clean:\n",
    "    nan_after_clean += item\n",
    "    \n",
    "print(\"{} nulls before enforcing type.\".format(nan_after_type))\n",
    "print(\"{} nulls after enforcing type.\".format(nan_after_clean))\n",
    "if nan_after_type > nan_after_clean:\n",
    "    print(\"{} nulls corrected by cleaning.\".format(nan_after_type - nan_after_clean))\n",
    "else:\n",
    "    print(\"{} nulls generated by cleaning.\".format(nan_after_clean - nan_after_type))"
   ]
  },
  {
   "cell_type": "markdown",
   "metadata": {},
   "source": [
    "Predictably, the 36 cells found above that contained <tt>65 years or older</tt> have been removed."
   ]
  },
  {
   "cell_type": "markdown",
   "metadata": {},
   "source": [
    "The final step of refinement, or fourth level, consists of checking the logic of the dataframe. In the context of the survey, in <tt>questionnaire.txt</tt>, a <tt>Logic</tt> tag that indicates a question should be hidden unless a specified question has a (or one of a particular set of) particular answer(s).\n",
    "\n",
    "Across the columns there are 23 dependencies. 21 of these are listed in <tt>questionnaire.txt</tt>, so please view this document. Please note that as responses pertaining to negative encounters have been separated from <tt>survey_data. csv</tt> into <tt>negative_incidents.csv</tt>, two of these dependencies are not enforced here. The remaining two dependencies not mentioned in <tt>questionnaire.txt</tt> are as follows:\n",
    "\n",
    "<ul>\n",
    "    <li><tt>PARTICIPATION.TYPE.ANY.REPONSE</tt> can only be one if at least one of the <tt>PARTICIPATION.TYPE....</tt> columns has a value of 1.</li>\n",
    "    <li><tt>OFF.SITE.ID</tt> should only have a value if the <tt>POPULATION</tt> column value is <tt>github</tt></li>\n",
    "</ul>\n",
    "\n",
    "The following function, <tt>enforce_dependencies</tt>, iterates through the list of question dependencies in order. If it finds a question that should be marked as hidden (as its dependencies are not met), it converts the cell to <tt>nan</tt>. This will allow the value the ignored through use of <tt>dropna</tt> in later analysis."
   ]
  },
  {
   "cell_type": "code",
   "execution_count": 14,
   "metadata": {},
   "outputs": [
    {
     "name": "stdout",
     "output_type": "stream",
     "text": [
      "Enforcing dependencies of ALL has completed. 51018 changes have been made.\n"
     ]
    }
   ],
   "source": [
    "df = enforce_dependencies(df, \"ALL\")"
   ]
  },
  {
   "cell_type": "markdown",
   "metadata": {},
   "source": [
    "Now, let's check that the overall change in number of null values reflects the above output."
   ]
  },
  {
   "cell_type": "code",
   "execution_count": 15,
   "metadata": {},
   "outputs": [
    {
     "name": "stdout",
     "output_type": "stream",
     "text": [
      "186077 nulls before enforcing dependencies.\n",
      "237095 nulls after enforcing dependencies.\n",
      "51018 nulls generated by dependency checking.\n"
     ]
    }
   ],
   "source": [
    "nanDF_after_deps = df.isna().sum()\n",
    "nan_after_deps = 0\n",
    "\n",
    "for item in nanDF_after_deps:\n",
    "    nan_after_deps += item\n",
    "    \n",
    "print(\"{} nulls before enforcing dependencies.\".format(nan_after_clean))\n",
    "print(\"{} nulls after enforcing dependencies.\".format(nan_after_deps))\n",
    "if nan_after_type > nan_after_clean:\n",
    "    print(\"{} nulls corrected by dependency checking.\".format(nan_after_clean - nan_after_deps))\n",
    "else:\n",
    "    print(\"{} nulls generated by dependency checking.\".format(nan_after_deps - nan_after_clean))"
   ]
  },
  {
   "cell_type": "markdown",
   "metadata": {},
   "source": [
    "Both values match: a total of 51018 responses that don't follow the schema result in 51018 nulls generated (approximately 9% of the data). The enforcement of the logic defined in <tt>questionnaire.txt</tt> is complete and at this point the data is under the fourth level of control. \n",
    "\n",
    "Let's save the refined dataset and then time for some analysis!"
   ]
  },
  {
   "cell_type": "code",
   "execution_count": 16,
   "metadata": {},
   "outputs": [],
   "source": [
    "df.to_csv(\"../data/refined_data.csv\")"
   ]
  },
  {
   "cell_type": "markdown",
   "metadata": {},
   "source": [
    "## Performing and Visualizing the Descriptive Analysis\n",
    "\n",
    "At this point, the data set has been checked for duplicates, cleaned, and fully refined. The only final step to perform before any analysis is to extract the relevant columns of data into a sub-dataframe and drop any <tt>null</tt> values in the sub-dataframe. \n",
    "\n",
    "### Survey Completion\n",
    "\n",
    "The first analysis we will perform on the data concerns the completeness of the survey response. This information is given by the <tt>STATUS</tt> column."
   ]
  },
  {
   "cell_type": "code",
   "execution_count": 17,
   "metadata": {},
   "outputs": [
    {
     "name": "stdout",
     "output_type": "stream",
     "text": [
      "STATUS contains the following values: ['Partial' 'Complete']\n",
      "\n",
      "Column description:\n"
     ]
    },
    {
     "data": {
      "text/plain": [
       "count         6029\n",
       "unique           2\n",
       "top       Complete\n",
       "freq          3746\n",
       "Name: STATUS, dtype: object"
      ]
     },
     "execution_count": 17,
     "metadata": {},
     "output_type": "execute_result"
    }
   ],
   "source": [
    "# Create a new dataframe of the status column, without any nans.\n",
    "status = df['STATUS'].dropna()\n",
    "\n",
    "print(\"STATUS contains the following values: {}\\n\".format(status.unique()))\n",
    "print(\"Column description:\")\n",
    "status.describe()"
   ]
  },
  {
   "cell_type": "markdown",
   "metadata": {},
   "source": [
    "The above description of the dataframe shows that <tt>Partial</tt> and <tt>Complete</tt> are the only possible values to indicate the completeness of a survey. Additionally, <tt>describe</tt> determines that there are more <tt>Complete</tt> surveys than <tt>Partial</tt>. Let's calculate the value of <tt>Partial</tt> to get a more complete comparison."
   ]
  },
  {
   "cell_type": "code",
   "execution_count": 18,
   "metadata": {
    "scrolled": true
   },
   "outputs": [
    {
     "name": "stdout",
     "output_type": "stream",
     "text": [
      "Summary: 3746 Complete surveys; 2283 Partial surveys; 0 invalid cells.\n",
      "62.13% of surveys are complete.\n"
     ]
    }
   ],
   "source": [
    "complete = 0\n",
    "partial = 0\n",
    "invalid = 0\n",
    "\n",
    "for val in status:\n",
    "    if val == \"Complete\":\n",
    "        complete += 1\n",
    "    elif val == \"Partial\":\n",
    "        partial += 1\n",
    "    else:\n",
    "        invalid += 1\n",
    "        \n",
    "print(\"Summary: {} Complete surveys; {} Partial surveys; {} invalid cells.\".format(complete, partial, invalid))\n",
    "print(\"{0:.2f}% of surveys are complete.\".format(percentage(complete, (complete + partial))))"
   ]
  },
  {
   "cell_type": "markdown",
   "metadata": {},
   "source": [
    "The above demonstrates that the majority of respondents were willing to fill the questionnaire out to its completion, but a significant 37.87% did not answer all of the questions. This could be for one of two reasons: that the respondent simply chose not to answer certain questions, or that some questions remained hidden from that respondent. "
   ]
  },
  {
   "cell_type": "markdown",
   "metadata": {},
   "source": [
    "### Participation by Community\n",
    "\n",
    "Next is an analysis of the populations of those who answered the survey. Let's analyse the respondents from GitHub versus those from outside communities. First, the relevant data is extracted from the dataframe (and stripped of <tt>NaN</tt> values)."
   ]
  },
  {
   "cell_type": "code",
   "execution_count": 19,
   "metadata": {},
   "outputs": [
    {
     "name": "stdout",
     "output_type": "stream",
     "text": [
      "POPULATION contains the following values: ['github' 'off site community']\n",
      "\n",
      "Column description:\n"
     ]
    },
    {
     "data": {
      "text/plain": [
       "count       6029\n",
       "unique         2\n",
       "top       github\n",
       "freq        5495\n",
       "Name: POPULATION, dtype: object"
      ]
     },
     "execution_count": 19,
     "metadata": {},
     "output_type": "execute_result"
    }
   ],
   "source": [
    "# Create a new dataframe of the population column, without any nans.\n",
    "population = df['POPULATION'].dropna()\n",
    "\n",
    "print(\"POPULATION contains the following values: {}\\n\".format(population.unique()))\n",
    "print(\"Column description:\")\n",
    "population.describe()"
   ]
  },
  {
   "cell_type": "markdown",
   "metadata": {},
   "source": [
    "The above description of the dataframe shows that only <tt>github</tt> and <tt>off site community</tt> are possible values for the population of respondents to the survey. Additionally, <tt>describe</tt> determines that there are significantly more respondents from the <tt>github</tt> community than those from an <tt>off site community</tt>. Let's calculate the value percentage of responses for each to get a full comparison."
   ]
  },
  {
   "cell_type": "code",
   "execution_count": 20,
   "metadata": {},
   "outputs": [
    {
     "name": "stdout",
     "output_type": "stream",
     "text": [
      "Summary: 5495 GitHub respondents; 534 respondents from off site communities; 0 invalid cells.\n",
      "91.14% of respondents are from GitHub.\n"
     ]
    }
   ],
   "source": [
    "github = 0\n",
    "off_site = 0\n",
    "invalid = 0\n",
    "\n",
    "for val in population:\n",
    "    if val == \"github\":\n",
    "        github += 1\n",
    "    elif val == \"off site community\":\n",
    "        off_site += 1\n",
    "    else:\n",
    "        invalid += 1\n",
    "        \n",
    "print(\"Summary: {} GitHub respondents; {} respondents from off site communities; {} invalid cells.\".format(github, off_site, invalid))\n",
    "print(\"{0:.2f}% of respondents are from GitHub.\".format(percentage(github, (github + off_site))))"
   ]
  },
  {
   "cell_type": "markdown",
   "metadata": {},
   "source": [
    "An overwhelming percentage of the responses came straight from the GitHub community. Let's look into those that were sourced elsewhere ascertain the number of communities involved. "
   ]
  },
  {
   "cell_type": "code",
   "execution_count": 21,
   "metadata": {},
   "outputs": [
    {
     "name": "stdout",
     "output_type": "stream",
     "text": [
      "OFF.SITE.ID contains the following values: ['off_site_5' 'off_site_4' 'off_site_6' 'off_site_1' 'off_site_8'\n",
      " 'off_site_9' 'off_site_3' 'off_site_7' 'off_site_2']\n",
      "\n",
      "Column description:\n"
     ]
    },
    {
     "data": {
      "text/plain": [
       "count            534\n",
       "unique             9\n",
       "top       off_site_9\n",
       "freq             312\n",
       "Name: OFF.SITE.ID, dtype: object"
      ]
     },
     "execution_count": 21,
     "metadata": {},
     "output_type": "execute_result"
    }
   ],
   "source": [
    "# Create a new dataframe of the population column, without any nans.\n",
    "offsite = df['OFF.SITE.ID'].dropna()\n",
    "\n",
    "print(\"OFF.SITE.ID contains the following values: {}\\n\".format(offsite.unique()))\n",
    "print(\"Column description:\")\n",
    "offsite.describe()"
   ]
  },
  {
   "cell_type": "markdown",
   "metadata": {},
   "source": [
    "Predictably, the number (<tt>count</tt>) of respondents with an off site id matches the number of respondents who are not from the GitHub community. Additionally, <tt>unique</tt> shows that there are 9 off site communities that participated in the survey, the last of which had the most respondents of all off site communities. Let's look more closely at the different off site communities."
   ]
  },
  {
   "cell_type": "code",
   "execution_count": 22,
   "metadata": {},
   "outputs": [
    {
     "name": "stdout",
     "output_type": "stream",
     "text": [
      "Summary: each community has the following number of respondents.\n",
      "     12 respondents from off_site_5\n",
      "     11 respondents from off_site_4\n",
      "     37 respondents from off_site_6\n",
      "     2 respondents from off_site_1\n",
      "     79 respondents from off_site_8\n",
      "     312 respondents from off_site_9\n",
      "     8 respondents from off_site_3\n",
      "     67 respondents from off_site_7\n",
      "     6 respondents from off_site_2\n"
     ]
    }
   ],
   "source": [
    "communities = []\n",
    "\n",
    "for val in offsite:\n",
    "    found = False    \n",
    "    \n",
    "    for item in communities:\n",
    "        if item[0] == val:\n",
    "            update = item[1] + 1\n",
    "            communities[communities.index(item)] = (item[0], update)\n",
    "            found = True\n",
    "            \n",
    "    if not found:\n",
    "        new_comm = (val, 1)\n",
    "        communities.append(new_comm)\n",
    "        \n",
    "print(\"Summary: each community has the following number of respondents.\")\n",
    "for name, count in communities:\n",
    "    print(\"     {} respondents from {}\".format(count, name))"
   ]
  },
  {
   "cell_type": "markdown",
   "metadata": {},
   "source": [
    "Shown above is the number of participants from off-site communities. This data shows the disparity between the amount of users from certain communities compared to others, as some communities have single digits of respondents whilst others are in the hundreds."
   ]
  },
  {
   "cell_type": "markdown",
   "metadata": {},
   "source": [
    "### Respondent Participation in Open Source Software\n",
    "\n",
    "Now, let's look at the percentage of respondents who engage in the following activities on GitHub:\n",
    "\n",
    "<ul>\n",
    "    <li>Follow updates and discussions of open source projects</li>\n",
    "    <li>Use open source applications</li>\n",
    "    <li>Use open source software as dependencies in other projects</li>\n",
    "    <li>Participate in open source software development (including making feature requests, filing bugs, contribution of documentation or code, project maintenance, etc.)</li>\n",
    "    <li>Other</li>\n",
    "</ul>"
   ]
  },
  {
   "cell_type": "code",
   "execution_count": 23,
   "metadata": {},
   "outputs": [],
   "source": [
    "# getting the size of the dataframe to use when calculating the percentage of all respondents who \n",
    "# participate in a given activity\n",
    "size = len(df)"
   ]
  },
  {
   "cell_type": "code",
   "execution_count": 24,
   "metadata": {},
   "outputs": [
    {
     "name": "stdout",
     "output_type": "stream",
     "text": [
      "Users who follow open source projects: 78.65%\n"
     ]
    }
   ],
   "source": [
    "# Users who follow updates and discussions of open source projects\n",
    "part_follow = df.groupby('PARTICIPATION.TYPE.FOLLOW')\n",
    "follow = percentage(len(part_follow.get_group(1)), size)\n",
    "\n",
    "print(\"Users who follow open source projects: {0:.2f}%\".format(follow))"
   ]
  },
  {
   "cell_type": "code",
   "execution_count": 25,
   "metadata": {},
   "outputs": [
    {
     "name": "stdout",
     "output_type": "stream",
     "text": [
      "Users who use open source applications: 92.47%\n"
     ]
    }
   ],
   "source": [
    "# Users of open source applications\n",
    "part_apps = df.groupby('PARTICIPATION.TYPE.USE.APPLICATIONS')\n",
    "apps = percentage(len(part_apps.get_group(1)), size)\n",
    "\n",
    "print(\"Users who use open source applications: {0:.2f}%\".format(apps))"
   ]
  },
  {
   "cell_type": "code",
   "execution_count": 26,
   "metadata": {},
   "outputs": [
    {
     "name": "stdout",
     "output_type": "stream",
     "text": [
      "Users who use open source software as dependencies: 84.31%\n"
     ]
    }
   ],
   "source": [
    "# Users of open source software as dependencies in other projects\n",
    "part_depen = df.groupby('PARTICIPATION.TYPE.USE.DEPENDENCIES')\n",
    "depends = percentage(len(part_depen.get_group(1)), size)\n",
    "\n",
    "print(\"Users who use open source software as dependencies: {0:.2f}%\".format(depends))"
   ]
  },
  {
   "cell_type": "code",
   "execution_count": 27,
   "metadata": {},
   "outputs": [
    {
     "name": "stdout",
     "output_type": "stream",
     "text": [
      "Users who contribute to open source projects: 71.44%\n"
     ]
    }
   ],
   "source": [
    "# Users that participate in open source software development (including making feature requests, filing bugs, \n",
    "# contribution of documentation or code, project maintenance, etc.)\n",
    "part_contr = df.groupby('PARTICIPATION.TYPE.CONTRIBUTE')\n",
    "participate = percentage(len(part_contr.get_group(1)), size)\n",
    "\n",
    "print(\"Users who contribute to open source projects: {0:.2f}%\".format(participate))"
   ]
  },
  {
   "cell_type": "code",
   "execution_count": 28,
   "metadata": {},
   "outputs": [
    {
     "name": "stdout",
     "output_type": "stream",
     "text": [
      "Users who participate in other ways: 4.76%\n"
     ]
    }
   ],
   "source": [
    "# Users who engage in other ways\n",
    "part_other = df.groupby('PARTICIPATION.TYPE.OTHER')\n",
    "other = percentage(len(part_other.get_group(1)), size)\n",
    "\n",
    "print(\"Users who participate in other ways: {0:.2f}%\".format(other))"
   ]
  },
  {
   "cell_type": "markdown",
   "metadata": {},
   "source": [
    "From this data we can plot a bar chart showing the percentage of respondents that participate in each way."
   ]
  },
  {
   "cell_type": "code",
   "execution_count": 29,
   "metadata": {},
   "outputs": [
    {
     "data": {
      "image/png": "[encoded data removed]",
      "text/plain": [
       "<Figure size 432x288 with 1 Axes>"
      ]
     },
     "metadata": {
      "needs_background": "light"
     },
     "output_type": "display_data"
    }
   ],
   "source": [
    "# Used https://matplotlib.org/gallery/lines_bars_and_markers/barchart.html#\n",
    "# sphx-glr-gallery-lines-bars-and-markers-barchart-py as a reference\n",
    "percents = (follow, apps, depends, participate, other)\n",
    "labels = ('Follow', 'Use apps', 'Use software', 'Participate', 'Other')\n",
    "\n",
    "x = np.arange(len(percents))\n",
    "width = 0.35\n",
    "\n",
    "fig, ax = plt.subplots()\n",
    "\n",
    "ax.set_title('GitHub Respondents\\' Participation in Open Source')\n",
    "ax.set_ylabel('Percentage ')\n",
    "ax.set_xlabel('Participation Type')\n",
    "\n",
    "plt.bar(x, percents)  \n",
    "plt.xticks(x, labels)\n",
    "\n",
    "for a,b in zip(x, percents):\n",
    "    plt.text(a-.3, b-4, (\"{0:.2f}%\".format(b)), weight='bold', color='white')\n",
    "\n",
    "plt.show()"
   ]
  },
  {
   "cell_type": "markdown",
   "metadata": {},
   "source": [
    "### Employment and Open Source Software\n",
    "\n",
    "This section analyses and discusses the employment status of respondents. First, let's extract the data from the <tt>EMPLOYMENT.STATUS</tt> column and drop any null values."
   ]
  },
  {
   "cell_type": "code",
   "execution_count": 30,
   "metadata": {},
   "outputs": [
    {
     "name": "stdout",
     "output_type": "stream",
     "text": [
      "EMPLOYMENT.STATUS contains the following values: ['Employed part time' 'Employed full time' 'Full time student'\n",
      " 'Other - please describe' 'Temporarily not working'\n",
      " 'Retired or permanently not working (e.g. due to disability)']\n",
      "\n",
      "Column description:\n"
     ]
    },
    {
     "data": {
      "text/plain": [
       "count                   5600\n",
       "unique                     6\n",
       "top       Employed full time\n",
       "freq                    3615\n",
       "Name: EMPLOYMENT.STATUS, dtype: object"
      ]
     },
     "execution_count": 30,
     "metadata": {},
     "output_type": "execute_result"
    }
   ],
   "source": [
    "# Create a new dataframe of the employment status column, dropping nans.\n",
    "emp_stat = df['EMPLOYMENT.STATUS'].dropna()\n",
    "\n",
    "print(\"EMPLOYMENT.STATUS contains the following values: {}\\n\".format(emp_stat.unique()))\n",
    "print(\"Column description:\")\n",
    "emp_stat.describe()"
   ]
  },
  {
   "cell_type": "markdown",
   "metadata": {},
   "source": [
    "From this rudimentary analysis, it can be seen that the vast majority of respondents are employed full time. To break this down further, below is shown the numbers of respondents for each categories of employment."
   ]
  },
  {
   "cell_type": "code",
   "execution_count": 31,
   "metadata": {},
   "outputs": [
    {
     "data": {
      "text/plain": [
       "Employed full time                                             3615\n",
       "Full time student                                              1048\n",
       "Employed part time                                              349\n",
       "Temporarily not working                                         314\n",
       "Other - please describe                                         184\n",
       "Retired or permanently not working (e.g. due to disability)      90\n",
       "Name: EMPLOYMENT.STATUS, dtype: int64"
      ]
     },
     "execution_count": 31,
     "metadata": {},
     "output_type": "execute_result"
    }
   ],
   "source": [
    "emp_stat.value_counts()"
   ]
  },
  {
   "cell_type": "markdown",
   "metadata": {},
   "source": [
    "From this, we can get an idea of how main occupation of respondents. However, a visual representation of the data will make this comparison more visible. Let's extract the count of each employment option to use in a pie chart."
   ]
  },
  {
   "cell_type": "code",
   "execution_count": 32,
   "metadata": {},
   "outputs": [],
   "source": [
    "counts = emp_stat.value_counts()\n",
    "\n",
    "part_time = counts['Employed part time']\n",
    "full_time = counts['Employed full time']\n",
    "student = counts['Full time student']\n",
    "temp_unemp = counts['Temporarily not working']\n",
    "perm_unemp = counts['Retired or permanently not working (e.g. due to disability)']\n",
    "other = counts['Other - please describe']"
   ]
  },
  {
   "cell_type": "markdown",
   "metadata": {},
   "source": [
    "Now, to generate the pie chart, run the following:"
   ]
  },
  {
   "cell_type": "code",
   "execution_count": 33,
   "metadata": {},
   "outputs": [
    {
     "data": {
      "image/png": "[encoded data removed]",
      "text/plain": [
       "<Figure size 432x288 with 1 Axes>"
      ]
     },
     "metadata": {},
     "output_type": "display_data"
    }
   ],
   "source": [
    "# Used to https://pythonspot.com/matplotlib-pie-chart/ as a reference\n",
    "parts = ['Employed part time', 'Employed full time', 'Full time student',\n",
    "       'Other', 'Retired or permanently not working', 'Temporarily not working']\n",
    "sizes = [part_time, full_time, student, temp_unemp, perm_unemp, other]\n",
    "colors = ['gold', 'lightseagreen', 'yellowgreen', 'lightcoral', 'lightskyblue', 'orchid']\n",
    " \n",
    "plt.pie(sizes, labels=parts, colors=colors, autopct='%1.1f%%', shadow=True, startangle=170)\n",
    " \n",
    "plt.axis('equal')\n",
    "plt.show()"
   ]
  },
  {
   "cell_type": "markdown",
   "metadata": {},
   "source": [
    "With the above chart, the dominance of those employed full time is more striking. The second largest group, students, is also comparably dominant as it is larger than all the remaining categories together (employed part time, temporarily not working, retired or permanently not working and other). "
   ]
  },
  {
   "cell_type": "markdown",
   "metadata": {},
   "source": [
    "## Extensions"
   ]
  },
  {
   "cell_type": "markdown",
   "metadata": {},
   "source": [
    "### Timeline Displaying the Number of Submissions Received per Day\n",
    "\n",
    "Let's start by extracting the necessary data from the dataframe and converting the dates to pandas date objects. Next, to produce a clearer plot, let's count the number of surveys completed on each day."
   ]
  },
  {
   "cell_type": "code",
   "execution_count": 34,
   "metadata": {},
   "outputs": [
    {
     "name": "stdout",
     "output_type": "stream",
     "text": [
      "Survey received responses from 2017-03-21 until 2017-05-13\n",
      "Duration of the survey in days: 53\n",
      "Number of days with responses: 40\n"
     ]
    }
   ],
   "source": [
    "from collections import OrderedDict\n",
    "from datetime import timedelta\n",
    "\n",
    "# extract date data\n",
    "dfDates = df['DATE.SUBMITTED'].dropna()\n",
    "\n",
    "# convert datetime64 to dates (excludes time)\n",
    "dates = pd.DatetimeIndex(dfDates).date\n",
    "\n",
    "# count the number of submissions on each day\n",
    "dateCounts = {}\n",
    "for date in dates:\n",
    "    if date in dateCounts:\n",
    "        dateCounts[date] += 1\n",
    "    else:\n",
    "        dateCounts[date] = 1\n",
    "\n",
    "dateCounts = sorted(dateCounts.items())\n",
    "\n",
    "start = dateCounts[0][0]\n",
    "end = dateCounts[-1][0]\n",
    "duration = (end - start).days\n",
    "print(\"Survey received responses from\", start, \"until\", end)\n",
    "print(\"Duration of the survey in days:\", duration)\n",
    "print(\"Number of days with responses:\", len(dateCounts))"
   ]
  },
  {
   "cell_type": "markdown",
   "metadata": {},
   "source": [
    "The above demonstrates that there are some days (13 in total) on which no responses were received. To make sure the timeline accurately represents the number of surveys received each day, these days must be added in with a survey count of 0."
   ]
  },
  {
   "cell_type": "code",
   "execution_count": 35,
   "metadata": {},
   "outputs": [],
   "source": [
    "x = []\n",
    "y = []\n",
    "\n",
    "# separate the date from the number of responses on that day\n",
    "for d, n in dateCounts:\n",
    "    x.append(d)\n",
    "    y.append(n)\n",
    "\n",
    "# create a list of the days that have no responses\n",
    "lastDate = start\n",
    "datesToAdd = []\n",
    "\n",
    "# iterate through the list of dates to find the missing dates\n",
    "for current in x:\n",
    "    diff = (current - lastDate).days\n",
    "    \n",
    "    # if the difference between the last date in x and the current date in x is greater\n",
    "    # than one, then at least one date is missing\n",
    "    while (diff > 1):\n",
    "        datesToAdd.append(lastDate + timedelta(days=1))\n",
    "        lastDate = lastDate + timedelta(days=1)\n",
    "        diff = (current - lastDate).days\n",
    "    \n",
    "    # update the value of the last date seen in x\n",
    "    lastDate = current\n",
    "\n",
    "# iterate through the list of dates to add, inserting them into the date and corresponding\n",
    "# value into the appropriate position in x and y\n",
    "addAt = 0\n",
    "for d in datesToAdd:   \n",
    "    # increment the index in x to the appropriate position for the date to be added at\n",
    "    while (x[addAt] - d).days != -1:   \n",
    "        addAt += 1\n",
    "\n",
    "    # insert the date and corresponding value\n",
    "    x.insert(addAt + 1, d)\n",
    "    y.insert(addAt + 1, 0)\n",
    "    addAt += 1"
   ]
  },
  {
   "cell_type": "markdown",
   "metadata": {},
   "source": [
    "It's now time to plot the number of surveys submitted while the survey was running (bound at the first and last dates responses were received)!"
   ]
  },
  {
   "cell_type": "code",
   "execution_count": 36,
   "metadata": {},
   "outputs": [
    {
     "data": {
      "image/png": "[encoded data removed]",
      "text/plain": [
       "<Figure size 720x576 with 1 Axes>"
      ]
     },
     "metadata": {
      "needs_background": "light"
     },
     "output_type": "display_data"
    }
   ],
   "source": [
    "# Used https://matplotlib.org/gallery/text_labels_and_annotations/date.html as a reference\n",
    "import matplotlib.dates as mdates\n",
    "from pandas.plotting import register_matplotlib_converters\n",
    "register_matplotlib_converters()\n",
    "\n",
    "# set day locator; set month locator and formatter\n",
    "days = mdates.DayLocator()\n",
    "months = mdates.MonthLocator()\n",
    "monthFmt = mdates.DateFormatter('%b %Y')\n",
    "\n",
    "# create the date plot\n",
    "fig, ax = plt.subplots(figsize=(10,8))\n",
    "ax.plot(x, y)\n",
    "\n",
    "# set the ticks\n",
    "ax.xaxis.set_major_locator(months)\n",
    "ax.xaxis.set_major_formatter(monthFmt)\n",
    "ax.xaxis.set_minor_locator(days)\n",
    "\n",
    "# add labels\n",
    "ax.set_title('Number of Survey Responses per Day')\n",
    "ax.set_ylabel('Number of Responses')\n",
    "\n",
    "# display the timeline\n",
    "plt.show()"
   ]
  },
  {
   "cell_type": "markdown",
   "metadata": {},
   "source": [
    "The resulting timeline shows that the vast majority of responses were received between 21 March and 1 April. This was likely just after the survey was released. Additionally, there is a brief jump in responses received mid-April. This is likely due to a reminder to complete the survey or a second wave of advertisement for the survey."
   ]
  },
  {
   "cell_type": "markdown",
   "metadata": {},
   "source": [
    "### Contribution type and frequency\n",
    "\n",
    "In this section, we will produce two summary tables for grid questions (those with a range of agreement options, interest indications, or frequency of engaging in a certain activity). These responses are formatted into a table and then displayed as a series of bar charts (stacked 2d bar chart and unstacked 3d bar chart).\n",
    "\n",
    "The first grid question analysed is question 2 in the survey: \n",
    "\n",
    "<tt>How often do you engage in the following activities?</tt>\n",
    "<ul>\n",
    "    <li>Contribute code (CONTRIBUTOR.TYPE.CONTRIBUTE.CODE)</li>\n",
    "    <li>Contribute documentation (CONTRIBUTOR.TYPE.CONTRIBUTE.DOCS)</li>\n",
    "    <li>Maintain a project (CONTRIBUTOR.TYPE.PROJECT.MAINTENANCE)</li>\n",
    "    <li>Report or document bugs and unexpected behaviours (CONTRIBUTOR.TYPE.FILE.BUGS)</li>\n",
    "    <li>Offer ideas for new features (CONTRIBUTOR.TYPE.FEATURE.REQUESTS)</li>\n",
    "    <li>Perform organizational or administrative functions (CONTRIBUTOR.TYPE.COMMUNITY.ADMIN)</li>\n",
    "</ul>\n",
    "\n",
    "Answer options are as follows:\n",
    "<ul>\n",
    "    <li>Never</li>\n",
    "    <li>Rarely</li>\n",
    "    <li>Occasionally</li>\n",
    "    <li>Frequently</li>\n",
    "</ul>"
   ]
  },
  {
   "cell_type": "code",
   "execution_count": 37,
   "metadata": {},
   "outputs": [
    {
     "name": "stdout",
     "output_type": "stream",
     "text": [
      "Never : [189, 661, 1090, 106, 451, 2412]\n",
      "Rarely : [1301, 1665, 974, 768, 1346, 867]\n",
      "Occasionally : [1383, 1214, 944, 2073, 1625, 417]\n",
      "Frequently : [1160, 460, 996, 1067, 573, 287]\n"
     ]
    }
   ],
   "source": [
    "# extract the relevant columns from the dataframe, dropping nans\n",
    "contr_code = df['CONTRIBUTOR.TYPE.CONTRIBUTE.CODE'].dropna()\n",
    "contr_docs = df['CONTRIBUTOR.TYPE.CONTRIBUTE.DOCS'].dropna()\n",
    "contr_maint = df['CONTRIBUTOR.TYPE.PROJECT.MAINTENANCE'].dropna()\n",
    "contr_bugs = df['CONTRIBUTOR.TYPE.FILE.BUGS'].dropna()\n",
    "contr_reqs = df['CONTRIBUTOR.TYPE.FEATURE.REQUESTS'].dropna()\n",
    "contr_admin = df['CONTRIBUTOR.TYPE.COMMUNITY.ADMIN'].dropna()\n",
    "\n",
    "# aggregate the relevant columns in a list to assist iterating across them\n",
    "contr_types = [contr_code, contr_docs, contr_maint, contr_bugs, contr_reqs, contr_admin]\n",
    "\n",
    "# possible answers for each contributor.type question\n",
    "contr_options = [\"Never\", \"Rarely\", \"Occasionally\", \"Frequently\"]\n",
    "\n",
    "# creating an empty two dimensional list to hold counts of contr_options for each column in contr_types\n",
    "c_counts = [[0 for x in range(len(contr_types))] for y in range(len(contr_options))]\n",
    "\n",
    "# iterate through the different columns of contribution type responses\n",
    "for i, c_type in enumerate(contr_types):\n",
    "    # iterate through the responses in each column\n",
    "    for oft in c_type:\n",
    "        # increment the counter in the corresponding position of counts according to the response value\n",
    "        if oft == contr_options[0]: # Never\n",
    "            c_counts[0][i] += 1\n",
    "        elif oft == contr_options[1]: # Rarely\n",
    "            c_counts[1][i] += 1\n",
    "        elif oft == contr_options[2]: # Occasionally\n",
    "            c_counts[2][i] += 1\n",
    "        elif oft == contr_options[3]: # Frequently\n",
    "            c_counts[3][i] += 1\n",
    "\n",
    "for i, subList in enumerate(c_counts):\n",
    "    print (contr_options[i], \":\", subList)"
   ]
  },
  {
   "cell_type": "markdown",
   "metadata": {},
   "source": [
    "The above code produces a list where the first sublist represents the number of \"Never\" responses across each contribution type, the second sublist represents the number of \"Rarely\" responses across each contribution type, and so forth.\n",
    "\n",
    "Time transform this list of lists into a more readable table!"
   ]
  },
  {
   "cell_type": "code",
   "execution_count": 38,
   "metadata": {},
   "outputs": [
    {
     "data": {
      "text/html": [
       "<div>\n",
       "<style scoped>\n",
       "    .dataframe tbody tr th:only-of-type {\n",
       "        vertical-align: middle;\n",
       "    }\n",
       "\n",
       "    .dataframe tbody tr th {\n",
       "        vertical-align: top;\n",
       "    }\n",
       "\n",
       "    .dataframe thead th {\n",
       "        text-align: right;\n",
       "    }\n",
       "</style>\n",
       "<table border=\"1\" class=\"dataframe\">\n",
       "  <thead>\n",
       "    <tr style=\"text-align: right;\">\n",
       "      <th></th>\n",
       "      <th>Code</th>\n",
       "      <th>Docs</th>\n",
       "      <th>Maintenance</th>\n",
       "      <th>File bugs</th>\n",
       "      <th>Requests</th>\n",
       "      <th>Admin</th>\n",
       "    </tr>\n",
       "  </thead>\n",
       "  <tbody>\n",
       "    <tr>\n",
       "      <th>Never</th>\n",
       "      <td>189</td>\n",
       "      <td>661</td>\n",
       "      <td>1090</td>\n",
       "      <td>106</td>\n",
       "      <td>451</td>\n",
       "      <td>2412</td>\n",
       "    </tr>\n",
       "    <tr>\n",
       "      <th>Rarely</th>\n",
       "      <td>1301</td>\n",
       "      <td>1665</td>\n",
       "      <td>974</td>\n",
       "      <td>768</td>\n",
       "      <td>1346</td>\n",
       "      <td>867</td>\n",
       "    </tr>\n",
       "    <tr>\n",
       "      <th>Occasionally</th>\n",
       "      <td>1383</td>\n",
       "      <td>1214</td>\n",
       "      <td>944</td>\n",
       "      <td>2073</td>\n",
       "      <td>1625</td>\n",
       "      <td>417</td>\n",
       "    </tr>\n",
       "    <tr>\n",
       "      <th>Frequently</th>\n",
       "      <td>1160</td>\n",
       "      <td>460</td>\n",
       "      <td>996</td>\n",
       "      <td>1067</td>\n",
       "      <td>573</td>\n",
       "      <td>287</td>\n",
       "    </tr>\n",
       "  </tbody>\n",
       "</table>\n",
       "</div>"
      ],
      "text/plain": [
       "              Code  Docs  Maintenance  File bugs  Requests  Admin\n",
       "Never          189   661         1090        106       451   2412\n",
       "Rarely        1301  1665          974        768      1346    867\n",
       "Occasionally  1383  1214          944       2073      1625    417\n",
       "Frequently    1160   460          996       1067       573    287"
      ]
     },
     "execution_count": 38,
     "metadata": {},
     "output_type": "execute_result"
    }
   ],
   "source": [
    "col_names = [\"Code\", \"Docs\", \"Maintenance\", \"File bugs\", \"Requests\", \"Admin\"]\n",
    "\n",
    "# creating a blank dataframe as a summary table\n",
    "contr_sum_df = pd.DataFrame(index = contr_options, columns = col_names)\n",
    "contr_sum_df = contr_sum_df.fillna(0)\n",
    "\n",
    "# iterating across the columns (from code to admin)\n",
    "for i, col in enumerate(col_names):\n",
    "    # iterating down the rows (from never to frequently)\n",
    "    for c in range(len(contr_options)):\n",
    "        # setting the dataframe value according to the count value calculated above\n",
    "        contr_sum_df.at[contr_options[c], col_names[i]] = c_counts[c][i]\n",
    "\n",
    "contr_sum_df"
   ]
  },
  {
   "cell_type": "markdown",
   "metadata": {},
   "source": [
    "Here's the resulting table. While it's easy to pick out that code is the most frequently contributed and administrative functions are least commonly contributed, it's hard to get a full picture of the data. Let's make a stacked bar chart to see if this will further assist analysis."
   ]
  },
  {
   "cell_type": "code",
   "execution_count": 39,
   "metadata": {},
   "outputs": [
    {
     "data": {
      "text/plain": [
       "<matplotlib.axes._subplots.AxesSubplot at 0x7f48c902de10>"
      ]
     },
     "execution_count": 39,
     "metadata": {},
     "output_type": "execute_result"
    },
    {
     "data": {
      "image/png": "[encoded data removed]",
      "text/plain": [
       "<Figure size 1440x720 with 1 Axes>"
      ]
     },
     "metadata": {
      "needs_background": "light"
     },
     "output_type": "display_data"
    }
   ],
   "source": [
    "contr_sum_df.T.plot.bar(stacked=True, figsize =(20,10), legend = 'reverse')"
   ]
  },
  {
   "cell_type": "markdown",
   "metadata": {},
   "source": [
    "This bar chart allows us to see the data trends more intuitively. For example, while more respondents frequently contributed towards code than any other type of contribution, significantly more contributed either frequently or occasionally by filing bugs than code contribution. \n",
    "\n",
    "Also, let's consider <tt>frequently or occasionally</tt> together as the active half of the response possibilities, and <tt>rarely or never</tt> as the inactive half of the response possibilities. We can now see that more respondents actively contribute to code and by filing bugs than do not. However, the numbers of respondents who actively contribute to documentation, maintenance, and feature requests are more evenly split between active and inactive.\n",
    "\n",
    "Notably administrative contributions seem to be quite infrequent overall. This perhaps is a reflection of the users GitHub attracts. As GitHub advertises itself to be \"The world's leading software development platform\", it most would likely gather users interested in developing software and therefore contributing code. It is therefore could be hypothesized that many of those users who contribute administratively do so in conjunction with other contributions, or were not first attracted to GitHub to participate administratively.\n",
    "\n",
    "Amusingly, the difference between the active number of contributors to filing bugs versus maintaining code equates to 1200. Out of approximately 4000 respondents, this can be interpreted as users are 30% more users file bugs than maintain bugs. This may be a reflection in human behavior: it is far easier to note (or complain) when something is broken or does not behave as expected, than to fix it. "
   ]
  },
  {
   "cell_type": "markdown",
   "metadata": {},
   "source": [
    "Let's now reinterpret the data in a third way: a 3d unstacked bar chart."
   ]
  },
  {
   "cell_type": "code",
   "execution_count": 40,
   "metadata": {},
   "outputs": [
    {
     "data": {
      "image/png": "[encoded data removed]",
      "text/plain": [
       "<Figure size 1440x576 with 1 Axes>"
      ]
     },
     "metadata": {
      "needs_background": "light"
     },
     "output_type": "display_data"
    }
   ],
   "source": [
    "# used https://matplotlib.org/gallery/mplot3d/3d_bars.html as a reference\n",
    "\n",
    "# import was recommended by matplotlib to make it easier to distinguish between bars.\n",
    "from mpl_toolkits.mplot3d import Axes3D \n",
    "\n",
    "# make the diagram interactive by uncommenting the following line (please note that this will effect all diagrams)\n",
    "# %matplotlib notebook\n",
    "\n",
    "# setup the figure and axes\n",
    "fig = plt.figure(figsize=(20, 8))\n",
    "ax = fig.add_subplot(121, projection='3d')\n",
    "\n",
    "# setting bar sizes\n",
    "bottom = 0.5\n",
    "width = 0.5\n",
    "\n",
    "# extracting the data from c_counts\n",
    "for f, freq_list in enumerate(c_counts):\n",
    "    \n",
    "    xList = []\n",
    "    yList = []\n",
    "    zList = np.zeros(len(freq_list))\n",
    "    valList = []\n",
    "    \n",
    "    for t, val in enumerate(freq_list):\n",
    "        xList.append(t)\n",
    "        yList.append(f)\n",
    "        valList.append(val)\n",
    "   \n",
    "    # drawing the diagram for each frequency option at a time (ie. never, rarely, etc.)\n",
    "    ax.bar3d(xList, yList, zList, bottom, width, valList, color='red', shade=True)\n",
    "\n",
    "# setting the title and tick labels\n",
    "ax.set_title('Frequency of Contribution by Type')\n",
    "plt.xticks(range(len(col_names)), col_names)\n",
    "plt.yticks(range(len(contr_options)), contr_options)\n",
    "plt.setp(ax.xaxis.get_majorticklabels(), ha='right')\n",
    "plt.setp(ax.yaxis.get_majorticklabels(), ha='left')\n",
    "\n",
    "plt.show()"
   ]
  },
  {
   "cell_type": "markdown",
   "metadata": {},
   "source": [
    "In the case of contribution type and frequency, I find the 3D graph interesting to examine and manipulate (with interactive mode on). However, in terms of analysis, I find the 2D stacked version more readible and easier to identify patterns from as you see more of the data at once."
   ]
  },
  {
   "cell_type": "markdown",
   "metadata": {},
   "source": [
    "### User and Contributor Priorities\n",
    "\n",
    "The next two sets of data we are going to walk through these three visualisations with are questions 7 and 8. These questions are as follows:\n",
    "\n",
    "<tt>When thinking about whether to use open source software, how important are the following things?</tt> and <tt>When thinking about whether to contribute to an open source project, how important are the following things?</tt>\n",
    "\n",
    "Both questions refer to the same list of \"following things\", which are:\n",
    "<ul>\n",
    "    <li>An open source license (OSS.USER/CONTRIBUTOR.PRIORITIES.LICENSE)</li>\n",
    "    <li>A code of conduct (OSS.USER/CONTRIBUTOR.PRIORITIES.CODE.OF.CONDUCT)</li>\n",
    "    <li>A contributing guide (OSS.USER/CONTRIBUTOR.PRIORITIES.CONTRIBUTING.GUIDE)</li>\n",
    "    <li>A contributor's license agreement (OSS.USER/CONTRIBUTOR.PRIORITIES.CLA)</li>\n",
    "    <li>Active development (OSS.USER/CONTRIBUTOR.PRIORITIES.ACTIVE.DEVELOPMENT)</li>\n",
    "    <li>Responsive maintainers (OSS.USER/CONTRIBUTOR.PRIORITIES.RESPONSIVE.MAINTAINERS)</li>\n",
    "    <li>A welcoming community (OSS.USER/CONTRIBUTOR.PRIORITIES.WELCOMING.COMMUNITY)</li>\n",
    "    <li>Widespread use (OSS.USER/CONTRIBUTOR.PRIORITIES.WIDESPREAD.USE)</li>\n",
    "</ul>\n",
    "\n",
    "Answer options are as follows for both questions as well:\n",
    "<ul>\n",
    "    <li>Very important to have</li>\n",
    "    <li>Somewhat important to have</li>\n",
    "    <li>Not important either way</li>\n",
    "    <li>Somewhat important not to have</li>\n",
    "    <li>Very important not to have</li>\n",
    "    <li>Don't know what this is</li>\n",
    "</ul>\n",
    "\n",
    "As these two questions offer insight into what is important for a user versus a contributor, they will benefit from a joint analysis."
   ]
  },
  {
   "cell_type": "code",
   "execution_count": 41,
   "metadata": {},
   "outputs": [
    {
     "name": "stdout",
     "output_type": "stream",
     "text": [
      "User importance counts\n",
      "\n",
      "Very important to have : [2133, 463, 663, 244, 1743, 1654, 1265, 579]\n",
      "Somewhat important to have : [719, 905, 1220, 601, 1179, 1236, 1217, 1392]\n",
      "Not important either way : [229, 1446, 1118, 1638, 166, 183, 568, 1038]\n",
      "Somewhat important not to have : [18, 118, 61, 251, 11, 13, 40, 72]\n",
      "Very important not to have : [15, 86, 36, 111, 18, 20, 18, 27]\n",
      "Don't know what this is : [11, 89, 15, 254, 7, 8, 6, 8]\n"
     ]
    }
   ],
   "source": [
    "# extract the relevant columns from the dataframe, dropping nulls\n",
    "oss_u_lic = df['OSS.USER.PRIORITIES.LICENSE'].dropna()\n",
    "oss_u_code = df['OSS.USER.PRIORITIES.CODE.OF.CONDUCT'].dropna()\n",
    "oss_u_guide = df['OSS.USER.PRIORITIES.CONTRIBUTING.GUIDE'].dropna()\n",
    "oss_u_cla = df['OSS.USER.PRIORITIES.CLA'].dropna() # contributor license agreement\n",
    "oss_u_dev = df['OSS.USER.PRIORITIES.ACTIVE.DEVELOPMENT'].dropna()\n",
    "oss_u_maint = df['OSS.USER.PRIORITIES.RESPONSIVE.MAINTAINERS'].dropna()\n",
    "oss_u_welc = df['OSS.USER.PRIORITIES.WELCOMING.COMMUNITY'].dropna()\n",
    "oss_u_w_use = df['OSS.USER.PRIORITIES.WIDESPREAD.USE'].dropna()\n",
    "\n",
    "# aggregate the relevant columns in a list to assist iterating across them\n",
    "oss_u_types = [oss_u_lic, oss_u_code, oss_u_guide, oss_u_cla, oss_u_dev, oss_u_maint, oss_u_welc, oss_u_w_use]\n",
    "\n",
    "# possible answers for each oss.user.priorities type question\n",
    "importance_options = [\"Very important to have\", \"Somewhat important to have\", \"Not important either way\",\n",
    "                     \"Somewhat important not to have\", \"Very important not to have\", \"Don't know what this is\"]\n",
    "\n",
    "# creating an empty two dimensional list to hold counts of importance_options for each column in oss_u_types\n",
    "oss_u_counts = [[0 for x in range(len(oss_u_types))] for y in range(len(importance_options))]\n",
    "\n",
    "# iterate through the different columns of degree-of-importance responses\n",
    "for i, u_type in enumerate(oss_u_types):\n",
    "    # iterate through the responses in each column\n",
    "    for imp in u_type:\n",
    "        # increment the counter in the corresponding position of counts according to the response value\n",
    "        if imp == importance_options[0]: # Very important to have\n",
    "            oss_u_counts[0][i] += 1\n",
    "        elif imp == importance_options[1]: # Somewhat important to have\n",
    "            oss_u_counts[1][i] += 1\n",
    "        elif imp == importance_options[2]: # Not important either way\n",
    "            oss_u_counts[2][i] += 1\n",
    "        elif imp == importance_options[3]: # Somewhat important not to have\n",
    "            oss_u_counts[3][i] += 1\n",
    "        elif imp == importance_options[4]: # Very important not to have\n",
    "            oss_u_counts[4][i] += 1\n",
    "        elif imp == importance_options[5]: # Don't know what this is\n",
    "            oss_u_counts[5][i] += 1\n",
    "\n",
    "print(\"User importance counts\\n\")\n",
    "for i, subList in enumerate(oss_u_counts):\n",
    "    print (importance_options[i], \":\", subList)"
   ]
  },
  {
   "cell_type": "markdown",
   "metadata": {},
   "source": [
    "Now, to transform the above data into a table:"
   ]
  },
  {
   "cell_type": "code",
   "execution_count": 42,
   "metadata": {},
   "outputs": [
    {
     "data": {
      "text/html": [
       "<div>\n",
       "<style scoped>\n",
       "    .dataframe tbody tr th:only-of-type {\n",
       "        vertical-align: middle;\n",
       "    }\n",
       "\n",
       "    .dataframe tbody tr th {\n",
       "        vertical-align: top;\n",
       "    }\n",
       "\n",
       "    .dataframe thead th {\n",
       "        text-align: right;\n",
       "    }\n",
       "</style>\n",
       "<table border=\"1\" class=\"dataframe\">\n",
       "  <thead>\n",
       "    <tr style=\"text-align: right;\">\n",
       "      <th></th>\n",
       "      <th>License</th>\n",
       "      <th>Code of Conduct</th>\n",
       "      <th>Guide</th>\n",
       "      <th>CLA</th>\n",
       "      <th>Active Dev.</th>\n",
       "      <th>Maintainers</th>\n",
       "      <th>Welcoming</th>\n",
       "      <th>Widespread</th>\n",
       "    </tr>\n",
       "  </thead>\n",
       "  <tbody>\n",
       "    <tr>\n",
       "      <th>Very important to have</th>\n",
       "      <td>2133</td>\n",
       "      <td>463</td>\n",
       "      <td>663</td>\n",
       "      <td>244</td>\n",
       "      <td>1743</td>\n",
       "      <td>1654</td>\n",
       "      <td>1265</td>\n",
       "      <td>579</td>\n",
       "    </tr>\n",
       "    <tr>\n",
       "      <th>Somewhat important to have</th>\n",
       "      <td>719</td>\n",
       "      <td>905</td>\n",
       "      <td>1220</td>\n",
       "      <td>601</td>\n",
       "      <td>1179</td>\n",
       "      <td>1236</td>\n",
       "      <td>1217</td>\n",
       "      <td>1392</td>\n",
       "    </tr>\n",
       "    <tr>\n",
       "      <th>Not important either way</th>\n",
       "      <td>229</td>\n",
       "      <td>1446</td>\n",
       "      <td>1118</td>\n",
       "      <td>1638</td>\n",
       "      <td>166</td>\n",
       "      <td>183</td>\n",
       "      <td>568</td>\n",
       "      <td>1038</td>\n",
       "    </tr>\n",
       "    <tr>\n",
       "      <th>Somewhat important not to have</th>\n",
       "      <td>18</td>\n",
       "      <td>118</td>\n",
       "      <td>61</td>\n",
       "      <td>251</td>\n",
       "      <td>11</td>\n",
       "      <td>13</td>\n",
       "      <td>40</td>\n",
       "      <td>72</td>\n",
       "    </tr>\n",
       "    <tr>\n",
       "      <th>Very important not to have</th>\n",
       "      <td>15</td>\n",
       "      <td>86</td>\n",
       "      <td>36</td>\n",
       "      <td>111</td>\n",
       "      <td>18</td>\n",
       "      <td>20</td>\n",
       "      <td>18</td>\n",
       "      <td>27</td>\n",
       "    </tr>\n",
       "    <tr>\n",
       "      <th>Don't know what this is</th>\n",
       "      <td>11</td>\n",
       "      <td>89</td>\n",
       "      <td>15</td>\n",
       "      <td>254</td>\n",
       "      <td>7</td>\n",
       "      <td>8</td>\n",
       "      <td>6</td>\n",
       "      <td>8</td>\n",
       "    </tr>\n",
       "  </tbody>\n",
       "</table>\n",
       "</div>"
      ],
      "text/plain": [
       "                                License  Code of Conduct  Guide   CLA  \\\n",
       "Very important to have             2133              463    663   244   \n",
       "Somewhat important to have          719              905   1220   601   \n",
       "Not important either way            229             1446   1118  1638   \n",
       "Somewhat important not to have       18              118     61   251   \n",
       "Very important not to have           15               86     36   111   \n",
       "Don't know what this is              11               89     15   254   \n",
       "\n",
       "                                Active Dev.  Maintainers  Welcoming  \\\n",
       "Very important to have                 1743         1654       1265   \n",
       "Somewhat important to have             1179         1236       1217   \n",
       "Not important either way                166          183        568   \n",
       "Somewhat important not to have           11           13         40   \n",
       "Very important not to have               18           20         18   \n",
       "Don't know what this is                   7            8          6   \n",
       "\n",
       "                                Widespread  \n",
       "Very important to have                 579  \n",
       "Somewhat important to have            1392  \n",
       "Not important either way              1038  \n",
       "Somewhat important not to have          72  \n",
       "Very important not to have              27  \n",
       "Don't know what this is                  8  "
      ]
     },
     "execution_count": 42,
     "metadata": {},
     "output_type": "execute_result"
    }
   ],
   "source": [
    "oss_u_col_names = [\"License\", \"Code of Conduct\", \"Guide\", \"CLA\", \"Active Dev.\", \"Maintainers\", \n",
    "                   \"Welcoming\", \"Widespread\"]\n",
    "\n",
    "# creating a blank dataframe as a summary table\n",
    "oss_u_sum_df = pd.DataFrame(index = importance_options, columns = oss_u_col_names)\n",
    "oss_u_sum_df = oss_u_sum_df.fillna(0)\n",
    "\n",
    "# iterating across the columns (from code to admin)\n",
    "for i, col in enumerate(oss_u_col_names):\n",
    "    # iterating down the rows (from never to frequently)\n",
    "    for c in range(len(importance_options)):\n",
    "        # setting the dataframe value according to the count value calculated above\n",
    "        oss_u_sum_df.at[importance_options[c], oss_u_col_names[i]] = oss_u_counts[c][i]\n",
    "\n",
    "oss_u_sum_df"
   ]
  },
  {
   "cell_type": "markdown",
   "metadata": {},
   "source": [
    "A precursory gland at the user priorities indicates two interesting trends: \n",
    "\n",
    "1. More users considered a license as 'Very important' than any other property.\n",
    "2. More users didn't know what a CLA (a contributors' license agreement) was than found it very important.\n",
    "\n",
    "However, it is hard to gain a deeper understanding of how these values represent the users in numeric form. Before creating the visual, let's produce the summary table for contributor priorities. This way, we will be able to compare the visuals for user and contributor priorities side by side."
   ]
  },
  {
   "cell_type": "code",
   "execution_count": 43,
   "metadata": {},
   "outputs": [
    {
     "name": "stdout",
     "output_type": "stream",
     "text": [
      "Contributor importance counts\n",
      "\n",
      "Very important to have : [2199, 655, 1198, 419, 1368, 1994, 1533, 387]\n",
      "Somewhat important to have : [610, 1145, 1396, 712, 1333, 1022, 1199, 1016]\n",
      "Not important either way : [337, 1085, 500, 1266, 448, 138, 411, 1666]\n",
      "Somewhat important not to have : [16, 119, 41, 327, 21, 7, 21, 70]\n",
      "Very important not to have : [15, 84, 18, 166, 18, 16, 15, 30]\n",
      "Don't know what this is : [18, 96, 24, 280, 5, 7, 7, 12]\n"
     ]
    }
   ],
   "source": [
    "# extract the relevant columns from the dataframe, dropping nulls\n",
    "oss_c_lic = df['OSS.CONTRIBUTOR.PRIORITIES.LICENSE'].dropna()\n",
    "oss_c_code = df['OSS.CONTRIBUTOR.PRIORITIES.CODE.OF.CONDUCT'].dropna()\n",
    "oss_c_guide = df['OSS.CONTRIBUTOR.PRIORITIES.CONTRIBUTING.GUIDE'].dropna()\n",
    "oss_c_cla = df['OSS.CONTRIBUTOR.PRIORITIES.CLA'].dropna()\n",
    "oss_c_dev = df['OSS.CONTRIBUTOR.PRIORITIES.ACTIVE.DEVELOPMENT'].dropna()\n",
    "oss_c_maint = df['OSS.CONTRIBUTOR.PRIORITIES.RESPONSIVE.MAINTAINERS'].dropna()\n",
    "oss_c_welc = df['OSS.CONTRIBUTOR.PRIORITIES.WELCOMING.COMMUNITY'].dropna()\n",
    "oss_c_w_use = df['OSS.CONTRIBUTOR.PRIORITIES.WIDESPREAD.USE'].dropna()\n",
    "\n",
    "# aggregate the relevant columns in a list to assist iterating across them\n",
    "oss_c_types = [oss_c_lic, oss_c_code, oss_c_guide, oss_c_cla, oss_c_dev, oss_c_maint, oss_c_welc, oss_c_w_use]\n",
    "\n",
    "# can reuse the possible answers from oss.user.priorities \n",
    "\n",
    "# creating an empty two dimensional list to hold counts of importance_options for each column in oss_u_types\n",
    "oss_c_counts = [[0 for x in range(len(oss_c_types))] for y in range(len(importance_options))]\n",
    "\n",
    "# iterate through the different columns of degree-of-importance responses\n",
    "for i, co_type in enumerate(oss_c_types):\n",
    "    # iterate through the responses in each column\n",
    "    for imp in co_type:\n",
    "        # increment the counter in the corresponding position of counts according to the response value\n",
    "        if imp == importance_options[0]: # Very important to have\n",
    "            oss_c_counts[0][i] += 1\n",
    "        elif imp == importance_options[1]: # Somewhat important to have\n",
    "            oss_c_counts[1][i] += 1\n",
    "        elif imp == importance_options[2]: # Not important either way\n",
    "            oss_c_counts[2][i] += 1\n",
    "        elif imp == importance_options[3]: # Somewhat important not to have\n",
    "            oss_c_counts[3][i] += 1\n",
    "        elif imp == importance_options[4]: # Very important not to have\n",
    "            oss_c_counts[4][i] += 1\n",
    "        elif imp == importance_options[5]: # Don't know what this is\n",
    "            oss_c_counts[5][i] += 1\n",
    "\n",
    "print(\"Contributor importance counts\\n\")\n",
    "for i, subList in enumerate(oss_c_counts):\n",
    "    print (importance_options[i], \":\", subList)"
   ]
  },
  {
   "cell_type": "markdown",
   "metadata": {},
   "source": [
    "Now, to transform the above data into a table:"
   ]
  },
  {
   "cell_type": "code",
   "execution_count": 44,
   "metadata": {},
   "outputs": [
    {
     "data": {
      "text/html": [
       "<div>\n",
       "<style scoped>\n",
       "    .dataframe tbody tr th:only-of-type {\n",
       "        vertical-align: middle;\n",
       "    }\n",
       "\n",
       "    .dataframe tbody tr th {\n",
       "        vertical-align: top;\n",
       "    }\n",
       "\n",
       "    .dataframe thead th {\n",
       "        text-align: right;\n",
       "    }\n",
       "</style>\n",
       "<table border=\"1\" class=\"dataframe\">\n",
       "  <thead>\n",
       "    <tr style=\"text-align: right;\">\n",
       "      <th></th>\n",
       "      <th>License</th>\n",
       "      <th>Code of Conduct</th>\n",
       "      <th>Guide</th>\n",
       "      <th>CLA</th>\n",
       "      <th>Active Dev.</th>\n",
       "      <th>Maintainers</th>\n",
       "      <th>Welcoming</th>\n",
       "      <th>Widespread</th>\n",
       "    </tr>\n",
       "  </thead>\n",
       "  <tbody>\n",
       "    <tr>\n",
       "      <th>Very important to have</th>\n",
       "      <td>2199</td>\n",
       "      <td>655</td>\n",
       "      <td>1198</td>\n",
       "      <td>419</td>\n",
       "      <td>1368</td>\n",
       "      <td>1994</td>\n",
       "      <td>1533</td>\n",
       "      <td>387</td>\n",
       "    </tr>\n",
       "    <tr>\n",
       "      <th>Somewhat important to have</th>\n",
       "      <td>610</td>\n",
       "      <td>1145</td>\n",
       "      <td>1396</td>\n",
       "      <td>712</td>\n",
       "      <td>1333</td>\n",
       "      <td>1022</td>\n",
       "      <td>1199</td>\n",
       "      <td>1016</td>\n",
       "    </tr>\n",
       "    <tr>\n",
       "      <th>Not important either way</th>\n",
       "      <td>337</td>\n",
       "      <td>1085</td>\n",
       "      <td>500</td>\n",
       "      <td>1266</td>\n",
       "      <td>448</td>\n",
       "      <td>138</td>\n",
       "      <td>411</td>\n",
       "      <td>1666</td>\n",
       "    </tr>\n",
       "    <tr>\n",
       "      <th>Somewhat important not to have</th>\n",
       "      <td>16</td>\n",
       "      <td>119</td>\n",
       "      <td>41</td>\n",
       "      <td>327</td>\n",
       "      <td>21</td>\n",
       "      <td>7</td>\n",
       "      <td>21</td>\n",
       "      <td>70</td>\n",
       "    </tr>\n",
       "    <tr>\n",
       "      <th>Very important not to have</th>\n",
       "      <td>15</td>\n",
       "      <td>84</td>\n",
       "      <td>18</td>\n",
       "      <td>166</td>\n",
       "      <td>18</td>\n",
       "      <td>16</td>\n",
       "      <td>15</td>\n",
       "      <td>30</td>\n",
       "    </tr>\n",
       "    <tr>\n",
       "      <th>Don't know what this is</th>\n",
       "      <td>18</td>\n",
       "      <td>96</td>\n",
       "      <td>24</td>\n",
       "      <td>280</td>\n",
       "      <td>5</td>\n",
       "      <td>7</td>\n",
       "      <td>7</td>\n",
       "      <td>12</td>\n",
       "    </tr>\n",
       "  </tbody>\n",
       "</table>\n",
       "</div>"
      ],
      "text/plain": [
       "                                License  Code of Conduct  Guide   CLA  \\\n",
       "Very important to have             2199              655   1198   419   \n",
       "Somewhat important to have          610             1145   1396   712   \n",
       "Not important either way            337             1085    500  1266   \n",
       "Somewhat important not to have       16              119     41   327   \n",
       "Very important not to have           15               84     18   166   \n",
       "Don't know what this is              18               96     24   280   \n",
       "\n",
       "                                Active Dev.  Maintainers  Welcoming  \\\n",
       "Very important to have                 1368         1994       1533   \n",
       "Somewhat important to have             1333         1022       1199   \n",
       "Not important either way                448          138        411   \n",
       "Somewhat important not to have           21            7         21   \n",
       "Very important not to have               18           16         15   \n",
       "Don't know what this is                   5            7          7   \n",
       "\n",
       "                                Widespread  \n",
       "Very important to have                 387  \n",
       "Somewhat important to have            1016  \n",
       "Not important either way              1666  \n",
       "Somewhat important not to have          70  \n",
       "Very important not to have              30  \n",
       "Don't know what this is                 12  "
      ]
     },
     "execution_count": 44,
     "metadata": {},
     "output_type": "execute_result"
    }
   ],
   "source": [
    "# can reuse oss_u_col_names here\n",
    "oss_c_col_names = oss_u_col_names\n",
    "\n",
    "# creating a blank dataframe as a summary table\n",
    "oss_c_sum_df = pd.DataFrame(index = importance_options, columns = oss_c_col_names)\n",
    "oss_c_sum_df = oss_c_sum_df.fillna(0)\n",
    "\n",
    "# iterating across the columns (from code to admin)\n",
    "for i, col in enumerate(oss_c_col_names):\n",
    "    # iterating down the rows (from never to frequently)\n",
    "    for c in range(len(importance_options)):\n",
    "        # setting the dataframe value according to the count value calculated above\n",
    "        oss_c_sum_df.at[importance_options[c], oss_c_col_names[i]] = oss_c_counts[c][i]\n",
    "\n",
    "oss_c_sum_df"
   ]
  },
  {
   "cell_type": "markdown",
   "metadata": {},
   "source": [
    "Again, this table indicates several wider trends about contributors:\n",
    "\n",
    "1. Like users, the property that most respondents found very important was an open source license.\n",
    "2. The largest group of contributors were ambivalent towards whether or not there was widespread use of the project. \n",
    "\n",
    "However, to gain a more cohesive understanding of the data, let's create a visual representation."
   ]
  },
  {
   "cell_type": "code",
   "execution_count": 45,
   "metadata": {},
   "outputs": [
    {
     "data": {
      "text/plain": [
       "<matplotlib.axes._subplots.AxesSubplot at 0x7f48c8e5b8d0>"
      ]
     },
     "execution_count": 45,
     "metadata": {},
     "output_type": "execute_result"
    },
    {
     "data": {
      "image/png": "[encoded data removed]",
      "text/plain": [
       "<Figure size 1440x720 with 2 Axes>"
      ]
     },
     "metadata": {
      "needs_background": "light"
     },
     "output_type": "display_data"
    }
   ],
   "source": [
    "#set figure\n",
    "fig, axes = plt.subplots(nrows=1, ncols=2)\n",
    "\n",
    "oss_user_title = \"User Priorities\"\n",
    "oss_contr_title = \"Contributor Priorities\"\n",
    "\n",
    "oss_u_sum_df.T.plot.bar(ax=axes[0],stacked=True, figsize=(20,10), title = oss_user_title, legend = 'reverse')\n",
    "oss_c_sum_df.T.plot.bar(ax=axes[1],stacked=True, figsize=(20,10), title = oss_contr_title, legend = 'reverse')"
   ]
  },
  {
   "cell_type": "markdown",
   "metadata": {},
   "source": [
    "From the above visualizations, we can make the following observations:\n",
    "\n",
    "1. Both users and contributors prioritized an open source license as very important. This is likely as an open source license \"allow[s] software to be freely used, modified, and shared\" (according to opensource.org/licenses). Without an open source license, many GitHub users would likely not be able to access and interact with others' work.\n",
    "\n",
    "2. Looking into features that are positively important (somewhat important and very important to have: orange and blue in the diagrams), there is a discrepancy between users a contributors. Here it is evident that most users found active development very important to have, whereas most contributors found responsive maintainers very important to have. \n",
    "\n",
    "3. On the other hand, let's look into negative importance (somewhat important and very important NOT to have: red and purple in the diagram). While negative importance was a significantly less frequent response, one feature had a notable number of negative importance responses: CLA (contributor license agreement). This feature was also the most frequently \"unknown\" feature. According to clahub.com/pages/why_cla, a contributor license agreement legally defines which contributors were permitted to make contributions, states that contributors agree to the distribution of their work, and prevents contributors from revoking their permission for distribution. Therefore, CLAs most likely received this negative attention from respondents as they make contribution more difficult and could potentially slow progress on a project. \n",
    "\n",
    "4. The vast majority of responses across the users and contributors indicate positive importance or ambivalence. This suggests that GitHub has been developing with its users and contributors needs over its lifetime. As there are no major \"red flags\" (somewhat or very important NOT to have) for any of the above features often present in GitHub projects, this indicates an overall positive response from respondents."
   ]
  },
  {
   "cell_type": "markdown",
   "metadata": {},
   "source": [
    "Now, let's see if a different visual will offer any deeper insight into the priorities of users and contributors."
   ]
  },
  {
   "cell_type": "code",
   "execution_count": 46,
   "metadata": {},
   "outputs": [
    {
     "data": {
      "image/png": "[encoded data removed]",
      "text/plain": [
       "<Figure size 1440x576 with 2 Axes>"
      ]
     },
     "metadata": {
      "needs_background": "light"
     },
     "output_type": "display_data"
    }
   ],
   "source": [
    "# used https://matplotlib.org/gallery/mplot3d/3d_bars.html as a reference\n",
    "\n",
    "# make the diagram interactive by uncommenting the following line (please note that this will effect all diagrams)\n",
    "# %matplotlib notebook\n",
    "\n",
    "# setup the figure and axes\n",
    "fig = plt.figure(figsize=(20, 8))\n",
    "user_priorites = fig.add_subplot(121, projection='3d')\n",
    "contr_priorites = fig.add_subplot(122, projection='3d')\n",
    "\n",
    "# setting bar sizes\n",
    "bottom = 0.5\n",
    "width = 0.5\n",
    "\n",
    "# extracting the data from c_counts for user priorities\n",
    "for i, imp_list in enumerate(oss_u_counts):\n",
    "    \n",
    "    xList = []\n",
    "    yList = []\n",
    "    zList = np.zeros(len(imp_list))\n",
    "    valList = []\n",
    "    \n",
    "    for t, val in enumerate(imp_list):\n",
    "        xList.append(t)\n",
    "        yList.append(i)\n",
    "        valList.append(val)\n",
    "   \n",
    "    # drawing the diagram for each frequency option at a time (ie. never, rarely, etc.)\n",
    "    user_priorites.bar3d(xList, yList, zList, bottom, width, valList, color='blue', shade=True)\n",
    "    \n",
    "# extracting the data from c_counts for contributor priorities\n",
    "for i, imp_list in enumerate(oss_c_counts):\n",
    "    \n",
    "    xList = []\n",
    "    yList = []\n",
    "    zList = np.zeros(len(imp_list))\n",
    "    valList = []\n",
    "    \n",
    "    for t, val in enumerate(imp_list):\n",
    "        xList.append(t)\n",
    "        yList.append(i)\n",
    "        valList.append(val)\n",
    "   \n",
    "    # drawing the diagram for each importance option at a time (ie. very important, etc.)\n",
    "    contr_priorites.bar3d(xList, yList, zList, bottom, width, valList, color='green', shade=True)\n",
    "\n",
    "# setting the title for each diagram\n",
    "user_priorites.set_title('OSS User Priorities')\n",
    "contr_priorites.set_title('OSS Contributor Priorities')\n",
    "\n",
    "# setting the tick labels for user priorities and adjusting their alignment\n",
    "user_priorites.set_xticklabels(oss_u_col_names)\n",
    "user_priorites.set_yticklabels(importance_options)\n",
    "plt.setp(user_priorites.xaxis.get_majorticklabels(), ha='right')\n",
    "plt.setp(user_priorites.yaxis.get_majorticklabels(), ha='left')\n",
    "\n",
    "# setting the tick labels for contributor priorities and adjusting their alignment\n",
    "contr_priorites.set_xticklabels(oss_c_col_names)\n",
    "contr_priorites.set_yticklabels(importance_options)\n",
    "plt.setp(contr_priorites.xaxis.get_majorticklabels(), ha='right')\n",
    "plt.setp(contr_priorites.yaxis.get_majorticklabels(), ha='left')\n",
    "\n",
    "plt.show()"
   ]
  },
  {
   "cell_type": "markdown",
   "metadata": {},
   "source": [
    "Ultimately, I find the previous plot (stacked 2D) more informative that the 3D unstacked bar chart. While it is possible to scroll through the above plots, it is harder to see all of the data at once. Additionally, while in interactive mode, it is difficult to view and compare both the user and contributor priorities at the same time."
   ]
  },
  {
   "cell_type": "markdown",
   "metadata": {},
   "source": [
    "### Employment and Those who Contribute to Open Source Development\n",
    "\n",
    "Let's see if the employment status of the respondents impacts their likelihood to contribute to open source projects. This analysis will bring together the following questions:\n",
    "\n",
    "<tt>People participate in open source in different ways. Which of the following activities do you engage in? Choose all that apply.</tt> with an answer of <tt>Participate in open source software development (including making feature requests, filing bugs, contribution of documentation or code, project maintenance, etc.)</tt> and <tt>Which best describes your employment (paid work) status?</tt>\n",
    "\n",
    "Answer options for employment status:\n",
    "<ul>\n",
    "    <li>Employed full time</li>\n",
    "    <li>Employed part time</li>\n",
    "    <li>Full time student</li>\n",
    "    <li>Temporarily not working</li>\n",
    "    <li>Retired or permanently not working (e.g. due to disability)</li>\n",
    "    <li>Other - please describe</li>\n",
    "</ul>\n",
    "\n",
    "Let's see how this data comes together:"
   ]
  },
  {
   "cell_type": "code",
   "execution_count": 47,
   "metadata": {},
   "outputs": [
    {
     "data": {
      "text/html": [
       "<div>\n",
       "<style scoped>\n",
       "    .dataframe tbody tr th:only-of-type {\n",
       "        vertical-align: middle;\n",
       "    }\n",
       "\n",
       "    .dataframe tbody tr th {\n",
       "        vertical-align: top;\n",
       "    }\n",
       "\n",
       "    .dataframe thead th {\n",
       "        text-align: right;\n",
       "    }\n",
       "</style>\n",
       "<table border=\"1\" class=\"dataframe\">\n",
       "  <thead>\n",
       "    <tr style=\"text-align: right;\">\n",
       "      <th>PARTICIPATION.TYPE.CONTRIBUTE</th>\n",
       "      <th>0</th>\n",
       "      <th>1</th>\n",
       "    </tr>\n",
       "    <tr>\n",
       "      <th>EMPLOYMENT.STATUS</th>\n",
       "      <th></th>\n",
       "      <th></th>\n",
       "    </tr>\n",
       "  </thead>\n",
       "  <tbody>\n",
       "    <tr>\n",
       "      <th>Employed full time</th>\n",
       "      <td>924</td>\n",
       "      <td>2691</td>\n",
       "    </tr>\n",
       "    <tr>\n",
       "      <th>Employed part time</th>\n",
       "      <td>114</td>\n",
       "      <td>235</td>\n",
       "    </tr>\n",
       "    <tr>\n",
       "      <th>Full time student</th>\n",
       "      <td>366</td>\n",
       "      <td>682</td>\n",
       "    </tr>\n",
       "    <tr>\n",
       "      <th>Other - please describe</th>\n",
       "      <td>48</td>\n",
       "      <td>136</td>\n",
       "    </tr>\n",
       "    <tr>\n",
       "      <th>Retired or permanently not working (e.g. due to disability)</th>\n",
       "      <td>36</td>\n",
       "      <td>54</td>\n",
       "    </tr>\n",
       "    <tr>\n",
       "      <th>Temporarily not working</th>\n",
       "      <td>131</td>\n",
       "      <td>183</td>\n",
       "    </tr>\n",
       "  </tbody>\n",
       "</table>\n",
       "</div>"
      ],
      "text/plain": [
       "PARTICIPATION.TYPE.CONTRIBUTE                         0     1\n",
       "EMPLOYMENT.STATUS                                            \n",
       "Employed full time                                  924  2691\n",
       "Employed part time                                  114   235\n",
       "Full time student                                   366   682\n",
       "Other - please describe                              48   136\n",
       "Retired or permanently not working (e.g. due to...   36    54\n",
       "Temporarily not working                             131   183"
      ]
     },
     "execution_count": 47,
     "metadata": {},
     "output_type": "execute_result"
    }
   ],
   "source": [
    "# extract the relevant columns from the dataframe, dropping nulls\n",
    "emp_part_df = df[[\"EMPLOYMENT.STATUS\", \"PARTICIPATION.TYPE.CONTRIBUTE\"]].dropna()\n",
    "emp_part = pd.crosstab(emp_part_df[\"EMPLOYMENT.STATUS\"], emp_part_df[\"PARTICIPATION.TYPE.CONTRIBUTE\"])\n",
    "emp_part"
   ]
  },
  {
   "cell_type": "markdown",
   "metadata": {},
   "source": [
    "From the above diagram, the following observations can be made:\n",
    "\n",
    "1. The vast majority of respondents who answered both these questions are employed full time, with the second leading group being full time students.\n",
    "2. There are more respondents who do contribute than do not across all groups.\n",
    "3. As there is a large discrepency in the number of responses between those who are employed full time and those with different employment statuses, it is necessary to calculate a percentage of respondents who contribute from each group.\n",
    "\n",
    "Let's calculate and plot the percentage of those who contribute by their employment status:"
   ]
  },
  {
   "cell_type": "code",
   "execution_count": 48,
   "metadata": {},
   "outputs": [
    {
     "data": {
      "image/png": "[encoded data removed]",
      "text/plain": [
       "<Figure size 720x576 with 1 Axes>"
      ]
     },
     "metadata": {
      "needs_background": "light"
     },
     "output_type": "display_data"
    }
   ],
   "source": [
    "# extract the relevant data for each group from the above crosstab dataframe\n",
    "ft_contr = emp_part[1][0]\n",
    "tot_ft = ft_contr + emp_part[0][0]\n",
    "pt_contr = emp_part[1][1]\n",
    "tot_pt = pt_contr + emp_part[0][1]\n",
    "sd_contr = emp_part[1][2]\n",
    "tot_sd = sd_contr + emp_part[0][2]\n",
    "ot_contr = emp_part[1][3]\n",
    "tot_ot = ot_contr + emp_part[0][3]\n",
    "nw_contr = emp_part[1][4]\n",
    "tot_nw = nw_contr + emp_part[0][4]\n",
    "tn_contr = emp_part[1][5]\n",
    "tot_tn = tn_contr + emp_part[0][5]\n",
    "\n",
    "# calculate the percentage of respondents who contribute by employment status\n",
    "p_c_ft = percentage(ft_contr, tot_ft)\n",
    "p_c_pt = percentage(pt_contr, tot_pt)\n",
    "p_c_sd = percentage(sd_contr, tot_sd)\n",
    "p_c_tn = percentage(tn_contr, tot_tn)\n",
    "p_c_nw = percentage(nw_contr, tot_nw)\n",
    "p_c_ot = percentage(ot_contr, tot_ot)\n",
    "\n",
    "# generate the bar chart \n",
    "perc_contr_emp = [p_c_ft, p_c_pt, p_c_sd, p_c_tn, p_c_nw, p_c_ot]\n",
    "labels = [\"Employed full time\", \"Employed part time\", \"Student\", \"Other\", \"Perm. not working\", \"Temp. not working\"]\n",
    "\n",
    "# create the date plot\n",
    "fig, ax = plt.subplots(figsize=(10,8))\n",
    "ax.bar(range(len(perc_contr_emp)), perc_contr_emp)\n",
    "\n",
    "# add labels\n",
    "ax.set_title('Percentage of respondents who contribute by employment status')\n",
    "ax.set_xlabel('Employment status')\n",
    "ax.set_xticks(np.arange(len(labels)))\n",
    "ax.set_xticklabels(labels, rotation=45)\n",
    "ax.set_ylabel('Percentage of respondents who contribute')\n",
    "\n",
    "# display the timeline\n",
    "plt.show()"
   ]
  },
  {
   "cell_type": "markdown",
   "metadata": {},
   "source": [
    "The above bar chart shows that those respondents who are employed full time or are temporarily not working are most likely to be contributing to open source development. The data above is surprising to me, as I would have expected those who spend less time at work (such as those who are students, employed part time, permanently not working, or have selected other) to be more likely to contribute. However, the opposite seems to be true except for those who are temporarily not working. "
   ]
  },
  {
   "cell_type": "markdown",
   "metadata": {},
   "source": [
    "### Are those who first accessed computers younger more likely to contribute?\n",
    "\n",
    "Let's now see if the age respondents were first exposed to computers with internet impacted their likelihood to contribute on GitHub. The question in the survey was as follow:\n",
    "\n",
    "<tt>How old were you when you first had regular access to a computer with internet connection?</tt>\n",
    "\n",
    "The answer choices:\n",
    "<ul>\n",
    "    <li>Younger than 13 years old</li>\n",
    "    <li>13 - 17 years old</li>\n",
    "    <li>18 - 24 years old</li>\n",
    "    <li>25 - 45 years old</li>\n",
    "    <li>Older than 45 years old</li>\n",
    "</ul>\n",
    "\n",
    "Let's produce a table to get a rough idea of the data:"
   ]
  },
  {
   "cell_type": "code",
   "execution_count": 49,
   "metadata": {},
   "outputs": [
    {
     "data": {
      "text/html": [
       "<div>\n",
       "<style scoped>\n",
       "    .dataframe tbody tr th:only-of-type {\n",
       "        vertical-align: middle;\n",
       "    }\n",
       "\n",
       "    .dataframe tbody tr th {\n",
       "        vertical-align: top;\n",
       "    }\n",
       "\n",
       "    .dataframe thead th {\n",
       "        text-align: right;\n",
       "    }\n",
       "</style>\n",
       "<table border=\"1\" class=\"dataframe\">\n",
       "  <thead>\n",
       "    <tr style=\"text-align: right;\">\n",
       "      <th>PARTICIPATION.TYPE.CONTRIBUTE</th>\n",
       "      <th>0</th>\n",
       "      <th>1</th>\n",
       "    </tr>\n",
       "    <tr>\n",
       "      <th>AGE.AT.FIRST.COMPUTER.INTERNET</th>\n",
       "      <th></th>\n",
       "      <th></th>\n",
       "    </tr>\n",
       "  </thead>\n",
       "  <tbody>\n",
       "    <tr>\n",
       "      <th>13 - 17 years old</th>\n",
       "      <td>331</td>\n",
       "      <td>982</td>\n",
       "    </tr>\n",
       "    <tr>\n",
       "      <th>18 - 24 years old</th>\n",
       "      <td>184</td>\n",
       "      <td>511</td>\n",
       "    </tr>\n",
       "    <tr>\n",
       "      <th>25 - 45 years old</th>\n",
       "      <td>84</td>\n",
       "      <td>118</td>\n",
       "    </tr>\n",
       "    <tr>\n",
       "      <th>Older than 45 years old</th>\n",
       "      <td>13</td>\n",
       "      <td>10</td>\n",
       "    </tr>\n",
       "    <tr>\n",
       "      <th>Younger than 13 years old</th>\n",
       "      <td>354</td>\n",
       "      <td>1124</td>\n",
       "    </tr>\n",
       "  </tbody>\n",
       "</table>\n",
       "</div>"
      ],
      "text/plain": [
       "PARTICIPATION.TYPE.CONTRIBUTE     0     1\n",
       "AGE.AT.FIRST.COMPUTER.INTERNET           \n",
       "13 - 17 years old               331   982\n",
       "18 - 24 years old               184   511\n",
       "25 - 45 years old                84   118\n",
       "Older than 45 years old          13    10\n",
       "Younger than 13 years old       354  1124"
      ]
     },
     "execution_count": 49,
     "metadata": {},
     "output_type": "execute_result"
    }
   ],
   "source": [
    "# extract the relevant columns from the dataframe, dropping nulls\n",
    "contr_first_comp_df = df[[\"AGE.AT.FIRST.COMPUTER.INTERNET\", \"PARTICIPATION.TYPE.CONTRIBUTE\"]].dropna()\n",
    "contr_first_comp = pd.crosstab(contr_first_comp_df[\"AGE.AT.FIRST.COMPUTER.INTERNET\"], \n",
    "                               contr_first_comp_df[\"PARTICIPATION.TYPE.CONTRIBUTE\"])\n",
    "contr_first_comp"
   ]
  },
  {
   "cell_type": "markdown",
   "metadata": {},
   "source": [
    "From the data above, it is immediately clear that there are far more respondents who were first exposed to computers with internet at a younger age. This means we will need to scale the percentage of those who contribute against their own age group (ie. of respondents with first access between ages 13-17, what percentage contribute?).\n",
    "\n",
    "Let's produce a visual to get a better understanding of the figures above:"
   ]
  },
  {
   "cell_type": "code",
   "execution_count": 50,
   "metadata": {},
   "outputs": [
    {
     "name": "stdout",
     "output_type": "stream",
     "text": [
      "Under 13: 76.05   13-17: 74.79   18-24: 73.53\n",
      "25-45: 58.42   Over 45: 43.48\n"
     ]
    },
    {
     "data": {
      "image/png": "[encoded data removed]",
      "text/plain": [
       "<Figure size 720x576 with 1 Axes>"
      ]
     },
     "metadata": {
      "needs_background": "light"
     },
     "output_type": "display_data"
    }
   ],
   "source": [
    "# calculate the percentage of respondents who contribute grouped by the age they first had regular access to \n",
    "# a computer with internet\n",
    "len_u_13 = len(df.loc[(df['AGE.AT.FIRST.COMPUTER.INTERNET'] == 'Younger than 13 years old') \n",
    "                      & (df['PARTICIPATION.TYPE.CONTRIBUTE'] == 1)])\n",
    "tot_u_13 = len_u_13 + len(df.loc[(df['AGE.AT.FIRST.COMPUTER.INTERNET'] == 'Younger than 13 years old') \n",
    "                      & (df['PARTICIPATION.TYPE.CONTRIBUTE'] == 0)])\n",
    "\n",
    "len_13_17 = len(df.loc[(df['AGE.AT.FIRST.COMPUTER.INTERNET'] == '13 - 17 years old') \n",
    "                      & (df['PARTICIPATION.TYPE.CONTRIBUTE'] == 1)])\n",
    "tot_u_17 = len_13_17 + len(df.loc[(df['AGE.AT.FIRST.COMPUTER.INTERNET'] == '13 - 17 years old') \n",
    "                      & (df['PARTICIPATION.TYPE.CONTRIBUTE'] == 0)])\n",
    "\n",
    "len_18_24 = len(df.loc[(df['AGE.AT.FIRST.COMPUTER.INTERNET'] == '18 - 24 years old') \n",
    "                      & (df['PARTICIPATION.TYPE.CONTRIBUTE'] == 1)])\n",
    "tot_u_24 = len_18_24 + len(df.loc[(df['AGE.AT.FIRST.COMPUTER.INTERNET'] == '18 - 24 years old') \n",
    "                      & (df['PARTICIPATION.TYPE.CONTRIBUTE'] == 0)])\n",
    "\n",
    "len_25_45 = len(df.loc[(df['AGE.AT.FIRST.COMPUTER.INTERNET'] == '25 - 45 years old') \n",
    "                      & (df['PARTICIPATION.TYPE.CONTRIBUTE'] == 1)])\n",
    "tot_u_45 = len_25_45 + len(df.loc[(df['AGE.AT.FIRST.COMPUTER.INTERNET'] == '25 - 45 years old') \n",
    "                      & (df['PARTICIPATION.TYPE.CONTRIBUTE'] == 0)])\n",
    "\n",
    "len_o_45 = len(df.loc[(df['AGE.AT.FIRST.COMPUTER.INTERNET'] == 'Older than 45 years old') \n",
    "                      & (df['PARTICIPATION.TYPE.CONTRIBUTE'] == 1)])\n",
    "tot_o_45 = len_o_45 + len(df.loc[(df['AGE.AT.FIRST.COMPUTER.INTERNET'] == 'Older than 45 years old') \n",
    "                      & (df['PARTICIPATION.TYPE.CONTRIBUTE'] == 0)])\n",
    "\n",
    "p_u_13 = percentage(len_u_13, tot_u_13)\n",
    "p_u_17 = percentage(len_13_17, tot_u_17)\n",
    "p_u_24 = percentage(len_18_24, tot_u_24)\n",
    "p_u_45 = percentage(len_25_45, tot_u_45)\n",
    "p_o_45 = percentage(len_o_45, tot_o_45)\n",
    "\n",
    "print(\"Under 13: %.2f   13-17: %.2f   18-24: %.2f\" % (p_u_13, p_u_17, p_u_24))\n",
    "print(\"25-45: %.2f   Over 45: %.2f\" % (p_u_45, p_o_45))\n",
    "\n",
    "perc_contr_f_age = [p_u_13, p_u_17, p_u_24, p_u_45, p_o_45]\n",
    "labels = [\"Younger than 13\", \"13 - 17\", \"18 - 24\", \"25 - 45\", \"Older than 45\"]\n",
    "\n",
    "# create the date plot\n",
    "fig, ax = plt.subplots(figsize=(10,8))\n",
    "ax.bar(range(len(perc_contr_f_age)), perc_contr_f_age)\n",
    "\n",
    "# add labels\n",
    "ax.set_title('Percentage of respondents who contribute by when they first had access to a computer with internet')\n",
    "ax.set_xlabel('Age first had regular access to a computer with internet')\n",
    "ax.set_xticks(np.arange(len(labels)))\n",
    "ax.set_xticklabels(labels, rotation=45)\n",
    "ax.set_ylabel('Percentage of respondents of each age group')\n",
    "\n",
    "# display the timeline\n",
    "plt.show()"
   ]
  },
  {
   "cell_type": "markdown",
   "metadata": {},
   "source": [
    "The above chart displays that respondents who were first exposed to a computer with internet access younger are more likely to contribute on GitHub. Across the groups who first had regular access younger (under 13, 13-17 and 18-24), the youngest group was only 2.52% more likely to contribute than those with first regular access between 18-24. However, the older two age groups (25-45 and over 45) were considerably less likely to contribute: each step in age group decreases likelihood of contribution by approximately 15%. \n",
    "\n",
    "Several speculations are that perhaps the respondents who were exposed later have had less time to learn the necessary skills for contribution or that perhaps the respondents exposed later are interested in participating through GitHub in ways other than contributing (for example following or using open source applications). Without further information, however, it is difficult to determine with certainty why the groups first exposed at an older age are less likely to contribute."
   ]
  },
  {
   "cell_type": "markdown",
   "metadata": {},
   "source": [
    "### Gender and Gender Identity\n",
    "\n",
    "Next is an analysis of all of the respondents gender identity. To determine the gender demographics of those who responded to the survey, we will look into the two following questions:\n",
    "\n",
    "<tt>What is your gender?</tt> and <tt>Do you identify as transgender?</tt>\n",
    "\n",
    "The answer choices for the first question are:\n",
    "<ul>\n",
    "    <li>Man</li>\n",
    "    <li>Woman</li>\n",
    "    <li>Non-binary or Other</li>\n",
    "    <li>Prefer not to say</li>\n",
    "</ul>\n",
    "\n",
    "And for the second question:\n",
    "<ul>\n",
    "    <li>No</li>\n",
    "    <li>Yes</li>\n",
    "    <li>Not sure</li>\n",
    "    <li>Prefer not to say</li>\n",
    "</ul>\n",
    "\n",
    "Let's produce a table:"
   ]
  },
  {
   "cell_type": "code",
   "execution_count": 51,
   "metadata": {},
   "outputs": [
    {
     "data": {
      "text/html": [
       "<div>\n",
       "<style scoped>\n",
       "    .dataframe tbody tr th:only-of-type {\n",
       "        vertical-align: middle;\n",
       "    }\n",
       "\n",
       "    .dataframe tbody tr th {\n",
       "        vertical-align: top;\n",
       "    }\n",
       "\n",
       "    .dataframe thead th {\n",
       "        text-align: right;\n",
       "    }\n",
       "</style>\n",
       "<table border=\"1\" class=\"dataframe\">\n",
       "  <thead>\n",
       "    <tr style=\"text-align: right;\">\n",
       "      <th>TRANSGENDER.IDENTITY</th>\n",
       "      <th>No</th>\n",
       "      <th>Not sure</th>\n",
       "      <th>Prefer not to say</th>\n",
       "      <th>Yes</th>\n",
       "    </tr>\n",
       "    <tr>\n",
       "      <th>GENDER</th>\n",
       "      <th></th>\n",
       "      <th></th>\n",
       "      <th></th>\n",
       "      <th></th>\n",
       "    </tr>\n",
       "  </thead>\n",
       "  <tbody>\n",
       "    <tr>\n",
       "      <th>Man</th>\n",
       "      <td>3336</td>\n",
       "      <td>16</td>\n",
       "      <td>13</td>\n",
       "      <td>12</td>\n",
       "    </tr>\n",
       "    <tr>\n",
       "      <th>Non-binary  or Other</th>\n",
       "      <td>17</td>\n",
       "      <td>11</td>\n",
       "      <td>3</td>\n",
       "      <td>8</td>\n",
       "    </tr>\n",
       "    <tr>\n",
       "      <th>Prefer not to say</th>\n",
       "      <td>28</td>\n",
       "      <td>1</td>\n",
       "      <td>142</td>\n",
       "      <td>1</td>\n",
       "    </tr>\n",
       "    <tr>\n",
       "      <th>Woman</th>\n",
       "      <td>111</td>\n",
       "      <td>2</td>\n",
       "      <td>0</td>\n",
       "      <td>12</td>\n",
       "    </tr>\n",
       "  </tbody>\n",
       "</table>\n",
       "</div>"
      ],
      "text/plain": [
       "TRANSGENDER.IDENTITY    No  Not sure  Prefer not to say  Yes\n",
       "GENDER                                                      \n",
       "Man                   3336        16                 13   12\n",
       "Non-binary  or Other    17        11                  3    8\n",
       "Prefer not to say       28         1                142    1\n",
       "Woman                  111         2                  0   12"
      ]
     },
     "execution_count": 51,
     "metadata": {},
     "output_type": "execute_result"
    }
   ],
   "source": [
    "ge_df = df[[\"GENDER\", \"TRANSGENDER.IDENTITY\"]].dropna()\n",
    "ge_sort = pd.crosstab(ge_df[\"GENDER\"], ge_df[\"TRANSGENDER.IDENTITY\"])\n",
    "ge_sort"
   ]
  },
  {
   "cell_type": "markdown",
   "metadata": {},
   "source": [
    "The total answers to these questions is surprisingly low. This is likely due to the fact that these questions were near the end of the survey (44 and 45 of 52 questions). As can be seen in this table, the vast majority of respondents were cisgender (those who identify as their birth gender) men. Let's calculate the exact percent:"
   ]
  },
  {
   "cell_type": "code",
   "execution_count": 52,
   "metadata": {},
   "outputs": [
    {
     "name": "stdout",
     "output_type": "stream",
     "text": [
      "Respondents who are cisgender men: 89.85%\n"
     ]
    }
   ],
   "source": [
    "gender = ge_df.groupby('GENDER')\n",
    "\n",
    "ge_tot = len(ge_df) # total\n",
    "len_cis_man = ge_sort.at['Man', 'No'] # cis men\n",
    "per_cis_man = percentage(len_cis_man, ge_tot)\n",
    "\n",
    "print(\"Respondents who are cisgender men: {0:.2f}%\".format(per_cis_man))"
   ]
  },
  {
   "cell_type": "markdown",
   "metadata": {},
   "source": [
    "This is a surprisingly high percentage of respondents who identify as cisgender men. This lack of gender and gender identity diversity is possibly the most surprising result to me, as I thought gender representation was more balanced.\n",
    "\n",
    "Another interesting aspect of this data is the transgender identity of those who identify as non-binary. In the first table, 39 respondents identify as non-binary or other in gender. Of these 39, 17 do not identify as transgender and 8 do. This is a surprising statistic to me, as I had previously considered non-binary gender identities to be considered explicitly under the umbrella of transgender identities. This data proves that not only is this not the case, but more of the (admittedly small sample size) respondents consider themselves to be not transgender."
   ]
  },
  {
   "cell_type": "markdown",
   "metadata": {},
   "source": [
    "### Gender and sexual orientation\n",
    "\n",
    "Building on the previous analysis of gender, let's now analyse the sexual orientation in terms of gender of respondents. The same data from the previous question on gender will be used here along with the following question:\n",
    "\n",
    "<tt>Do you identify as gay, lesbian, bisexual, asexual or any other minority sexual orientation?</tt>\n",
    "\n",
    "The answer choices are as follows:\n",
    "<ul>\n",
    "    <li>Yes</li>\n",
    "    <li>No</li>\n",
    "    <li>Not sure</li>\n",
    "    <li>Prefer not to say</li>\n",
    "</ul>\n",
    "\n",
    "Let's produce another table:"
   ]
  },
  {
   "cell_type": "code",
   "execution_count": 53,
   "metadata": {},
   "outputs": [
    {
     "data": {
      "text/html": [
       "<div>\n",
       "<style scoped>\n",
       "    .dataframe tbody tr th:only-of-type {\n",
       "        vertical-align: middle;\n",
       "    }\n",
       "\n",
       "    .dataframe tbody tr th {\n",
       "        vertical-align: top;\n",
       "    }\n",
       "\n",
       "    .dataframe thead th {\n",
       "        text-align: right;\n",
       "    }\n",
       "</style>\n",
       "<table border=\"1\" class=\"dataframe\">\n",
       "  <thead>\n",
       "    <tr style=\"text-align: right;\">\n",
       "      <th></th>\n",
       "      <th>count</th>\n",
       "      <th>unique</th>\n",
       "      <th>top</th>\n",
       "      <th>freq</th>\n",
       "    </tr>\n",
       "    <tr>\n",
       "      <th>GENDER</th>\n",
       "      <th></th>\n",
       "      <th></th>\n",
       "      <th></th>\n",
       "      <th></th>\n",
       "    </tr>\n",
       "  </thead>\n",
       "  <tbody>\n",
       "    <tr>\n",
       "      <th>Man</th>\n",
       "      <td>3380</td>\n",
       "      <td>4</td>\n",
       "      <td>No</td>\n",
       "      <td>3071</td>\n",
       "    </tr>\n",
       "    <tr>\n",
       "      <th>Non-binary  or Other</th>\n",
       "      <td>39</td>\n",
       "      <td>4</td>\n",
       "      <td>Yes</td>\n",
       "      <td>29</td>\n",
       "    </tr>\n",
       "    <tr>\n",
       "      <th>Prefer not to say</th>\n",
       "      <td>173</td>\n",
       "      <td>4</td>\n",
       "      <td>Prefer not to say</td>\n",
       "      <td>143</td>\n",
       "    </tr>\n",
       "    <tr>\n",
       "      <th>Woman</th>\n",
       "      <td>125</td>\n",
       "      <td>4</td>\n",
       "      <td>No</td>\n",
       "      <td>84</td>\n",
       "    </tr>\n",
       "  </tbody>\n",
       "</table>\n",
       "</div>"
      ],
      "text/plain": [
       "                     count unique                top  freq\n",
       "GENDER                                                    \n",
       "Man                   3380      4                 No  3071\n",
       "Non-binary  or Other    39      4                Yes    29\n",
       "Prefer not to say      173      4  Prefer not to say   143\n",
       "Woman                  125      4                 No    84"
      ]
     },
     "execution_count": 53,
     "metadata": {},
     "output_type": "execute_result"
    }
   ],
   "source": [
    "df.groupby(\"GENDER\")[\"SEXUAL.ORIENTATION\"].describe()"
   ]
  },
  {
   "cell_type": "markdown",
   "metadata": {},
   "source": [
    "This first table displays the number of men, women, non-binary or other & respondents who prefer not to identify their gender crossed sexual orientation. Now that we have the total count of respondents of each gender and dominating group of sexual orientation, let's look more into the breakdown of the population:"
   ]
  },
  {
   "cell_type": "code",
   "execution_count": 54,
   "metadata": {
    "scrolled": true
   },
   "outputs": [
    {
     "data": {
      "text/html": [
       "<div>\n",
       "<style scoped>\n",
       "    .dataframe tbody tr th:only-of-type {\n",
       "        vertical-align: middle;\n",
       "    }\n",
       "\n",
       "    .dataframe tbody tr th {\n",
       "        vertical-align: top;\n",
       "    }\n",
       "\n",
       "    .dataframe thead th {\n",
       "        text-align: right;\n",
       "    }\n",
       "</style>\n",
       "<table border=\"1\" class=\"dataframe\">\n",
       "  <thead>\n",
       "    <tr style=\"text-align: right;\">\n",
       "      <th>SEXUAL.ORIENTATION</th>\n",
       "      <th>No</th>\n",
       "      <th>Not sure</th>\n",
       "      <th>Prefer not to say</th>\n",
       "      <th>Yes</th>\n",
       "    </tr>\n",
       "    <tr>\n",
       "      <th>GENDER</th>\n",
       "      <th></th>\n",
       "      <th></th>\n",
       "      <th></th>\n",
       "      <th></th>\n",
       "    </tr>\n",
       "  </thead>\n",
       "  <tbody>\n",
       "    <tr>\n",
       "      <th>Man</th>\n",
       "      <td>3071</td>\n",
       "      <td>72</td>\n",
       "      <td>55</td>\n",
       "      <td>182</td>\n",
       "    </tr>\n",
       "    <tr>\n",
       "      <th>Non-binary  or Other</th>\n",
       "      <td>6</td>\n",
       "      <td>3</td>\n",
       "      <td>1</td>\n",
       "      <td>29</td>\n",
       "    </tr>\n",
       "    <tr>\n",
       "      <th>Prefer not to say</th>\n",
       "      <td>24</td>\n",
       "      <td>1</td>\n",
       "      <td>143</td>\n",
       "      <td>5</td>\n",
       "    </tr>\n",
       "    <tr>\n",
       "      <th>Woman</th>\n",
       "      <td>84</td>\n",
       "      <td>9</td>\n",
       "      <td>2</td>\n",
       "      <td>30</td>\n",
       "    </tr>\n",
       "  </tbody>\n",
       "</table>\n",
       "</div>"
      ],
      "text/plain": [
       "SEXUAL.ORIENTATION      No  Not sure  Prefer not to say  Yes\n",
       "GENDER                                                      \n",
       "Man                   3071        72                 55  182\n",
       "Non-binary  or Other     6         3                  1   29\n",
       "Prefer not to say       24         1                143    5\n",
       "Woman                   84         9                  2   30"
      ]
     },
     "execution_count": 54,
     "metadata": {},
     "output_type": "execute_result"
    }
   ],
   "source": [
    "# so for sexual orientation\n",
    "so_df = df[[\"GENDER\", \"SEXUAL.ORIENTATION\"]]\n",
    "so_table = pd.crosstab(so_df[\"GENDER\"], so_df[\"SEXUAL.ORIENTATION\"])\n",
    "so_table"
   ]
  },
  {
   "cell_type": "markdown",
   "metadata": {},
   "source": [
    "This chart shows us that once again there is a single leading demographic that is very highly represented among respondents: men who do not identify as a sexual minority. There is, however, a slightly weaker dominance of this group. Let's calculate the exact percentage of respondents of each group:"
   ]
  },
  {
   "cell_type": "code",
   "execution_count": 55,
   "metadata": {},
   "outputs": [
    {
     "name": "stdout",
     "output_type": "stream",
     "text": [
      "Respondents who are straight men: 82.62%\n",
      "Respondents who are straight women: 2.26%\n",
      "Respondents who are straight non-binary or other gender: 0.16%\n",
      "\n",
      "Respondents who are minority sexual orientation men: 4.90%\n",
      "Respondents who are minority sexual orientation women: 0.81%\n",
      "Respondents who are minority sexual orientation non-binary or other gender: 0.78%\n",
      "\n",
      "Percentage of male respondents who identify as a minority sexual orientation: 5.38%\n",
      "Percentage of female respondents who identify as a minority sexual orientation: 30.00%\n"
     ]
    }
   ],
   "source": [
    "so = so_df.groupby('GENDER')\n",
    "\n",
    "# total\n",
    "so_tot = len(so_df.dropna())\n",
    "\n",
    "# straight (ie. not a minority sexual orientation) men\n",
    "len_straight_man = so_table.at['Man', 'No'] \n",
    "per_straight_man = percentage(len_straight_man, so_tot)\n",
    "print(\"Respondents who are straight men: {0:.2f}%\".format(per_straight_man))\n",
    "\n",
    "# straight (ie. not a minority sexual orientation) women\n",
    "len_straight_woman = so_table.at['Woman', 'No'] \n",
    "per_straight_woman = percentage(len_straight_woman, so_tot)\n",
    "print(\"Respondents who are straight women: {0:.2f}%\".format(per_straight_woman))\n",
    "\n",
    "# straight (ie. not a minority sexual orientation) non-binary / other\n",
    "len_straight_nbo = so_table.at['Non-binary  or Other', 'No'] \n",
    "per_straight_nbo = percentage(len_straight_nbo, so_tot)\n",
    "print(\"Respondents who are straight non-binary or other gender: {0:.2f}%\\n\".format(per_straight_nbo))\n",
    "\n",
    "# minority sexual orientation men\n",
    "len_min_so_man = so_table.at['Man', 'Yes'] \n",
    "per_min_so_man = percentage(len_min_so_man, so_tot)\n",
    "print(\"Respondents who are minority sexual orientation men: {0:.2f}%\".format(per_min_so_man))\n",
    "\n",
    "# minority sexual orientation women\n",
    "len_min_so_woman = so_table.at['Woman', 'Yes']\n",
    "per_min_so_woman = percentage(len_min_so_woman, so_tot)\n",
    "print(\"Respondents who are minority sexual orientation women: {0:.2f}%\".format(per_min_so_woman))\n",
    "\n",
    "# minority sexual orientation non-binary / other\n",
    "len_min_so_nbo = so_table.at['Non-binary  or Other', 'Yes'] \n",
    "per_min_so_nbo = percentage(len_min_so_nbo, so_tot)\n",
    "print(\"Respondents who are minority sexual orientation non-binary or other gender: {0:.2f}%\\n\".format(per_min_so_nbo))\n",
    "\n",
    "# total counts of men and women\n",
    "men_count = so.count().at['Man', 'SEXUAL.ORIENTATION']\n",
    "women_count = so.count().at['Man', 'SEXUAL.ORIENTATION']\n",
    "\n",
    "# total counts of minority sexual orientation men and women\n",
    "msom_count = so_table.at['Man', 'Yes']\n",
    "wsom_count = so_table.at['Woman', 'Yes']\n",
    "\n",
    "msom_percent = percentage(msom_count, men_count)\n",
    "wsom_percent = percentage(wsom_count, women_count)\n",
    "\n",
    "print(\"Percentage of male respondents who identify as a minority sexual orientation: {0:.2f}%\".format(msom_percent))\n",
    "print(\"Percentage of female respondents who identify as a minority sexual orientation: {0:.2f}%\".format(wsom_count))"
   ]
  },
  {
   "cell_type": "markdown",
   "metadata": {},
   "source": [
    "Again the proportion of straight men is very large. Let's compare the data from GitHub respondents to that of the UK Office for National Statistics (an overview provided at: https://www.ons.gov.uk/peoplepopulationandcommunity/culturalidentity/sexuality/bulletins/sexualidentityuk/2017). While the GitHub survey was not directed exclusively at British users, we can use the United Kingdom's population as a comparison.\n",
    "\n",
    "The relevant key points made by the UK Office for National Statistics are as follows:\n",
    "<ul>\n",
    "    <li>In 2017, 93.2% of the UK population aged 16 years and older identified as heterosexual.</li>\n",
    "    <li>2.3% of British males and 1.8% of British females identify os LGB in 2017.</li>\n",
    "</ul>\n",
    "\n",
    "The comparable statistics from the GitHub survey respondents are as follows:\n",
    "<ul>\n",
    "    <li>84.9% of the respondents identify as heterosexual (total non-minority sexual orientation / total respondents to above questions).</li>\n",
    "    <li>5.38% of male respondents and 24% of females respondents identify as a minority sexual orientation.</li>\n",
    "</ul>\n",
    "\n",
    "This comparison is vital in understanding the data. Ideally, the data gathered from GitHub respondents should be compared on a global scale (as GitHub is a global community); however, accurate data of this nature is difficult to obtain. Even with a direct comparison to the population of the UK, it is possible to make the following observations:\n",
    "\n",
    "1. The population of GitHub users who responded to the survey is slightly more diverse than that of the UK.\n",
    "2. Female respondents are far more diverse in sexual orientation than those of the UK population.\n",
    "3. Curiously, the number of male respondents of a minory sexual orientation is larger than the number of female respondents of all sexual orientations.\n",
    "\n",
    "It is difficult to hypothesize as to why the GitHub population's sexual diversity is significantly greater than that of the UK. Potentially, this could be a reflection of the comparitively small sample size of respondents; however, there is no further data to extrapolate further."
   ]
  },
  {
   "cell_type": "markdown",
   "metadata": {},
   "source": [
    "### Employment and formal education\n",
    "\n",
    "Lastly, let's take a look at the highest level of formal education received and employment status.\n",
    "\n",
    "The questions were as follows:\n",
    "<tt>What is the highest level of formal education that you have completed?</tt> and <tt>Which best describes your employment (paid work) status?</tt>\n",
    "\n",
    "The answer choices for education are as follows:\n",
    "<ul>\n",
    "    <li>Less than secondary (high) school</li>\n",
    "    <li>Secondary (high) school graduate or equivalent</li>\n",
    "    <li>Some college, no degree</li>\n",
    "    <li>Vocational/trade program or apprenticeship</li>\n",
    "    <li>Bachelor's degree</li>\n",
    "    <li>Master's degree</li>\n",
    "    <li>Doctorate (Ph.D.) or other advanced degree (e.g. M.D., J.D.)</li>\n",
    "</ul>\n",
    "\n",
    "And for employment:\n",
    "<ul>\n",
    "    <li>Employed full time</li>\n",
    "    <li>Employed part time</li>\n",
    "    <li>Full time student</li>\n",
    "    <li>Temporarily not working</li>\n",
    "    <li>Retired or permanently not working (e.g. due to disability)</li>\n",
    "    <li>Other</li>\n",
    "</ul>\n",
    "\n",
    "Let's produce a final table:"
   ]
  },
  {
   "cell_type": "code",
   "execution_count": 56,
   "metadata": {},
   "outputs": [
    {
     "data": {
      "text/html": [
       "<div>\n",
       "<style scoped>\n",
       "    .dataframe tbody tr th:only-of-type {\n",
       "        vertical-align: middle;\n",
       "    }\n",
       "\n",
       "    .dataframe tbody tr th {\n",
       "        vertical-align: top;\n",
       "    }\n",
       "\n",
       "    .dataframe thead th {\n",
       "        text-align: right;\n",
       "    }\n",
       "</style>\n",
       "<table border=\"1\" class=\"dataframe\">\n",
       "  <thead>\n",
       "    <tr style=\"text-align: right;\">\n",
       "      <th>EMPLOYMENT.STATUS</th>\n",
       "      <th>Employed full time</th>\n",
       "      <th>Employed part time</th>\n",
       "      <th>Full time student</th>\n",
       "      <th>Other - please describe</th>\n",
       "      <th>Retired or permanently not working (e.g. due to disability)</th>\n",
       "      <th>Temporarily not working</th>\n",
       "    </tr>\n",
       "    <tr>\n",
       "      <th>FORMAL.EDUCATION</th>\n",
       "      <th></th>\n",
       "      <th></th>\n",
       "      <th></th>\n",
       "      <th></th>\n",
       "      <th></th>\n",
       "      <th></th>\n",
       "    </tr>\n",
       "  </thead>\n",
       "  <tbody>\n",
       "    <tr>\n",
       "      <th>Bachelor's degree</th>\n",
       "      <td>961</td>\n",
       "      <td>72</td>\n",
       "      <td>172</td>\n",
       "      <td>30</td>\n",
       "      <td>17</td>\n",
       "      <td>67</td>\n",
       "    </tr>\n",
       "    <tr>\n",
       "      <th>Doctorate (Ph.D.) or other advanced degree (e.g. M.D., J.D.)</th>\n",
       "      <td>203</td>\n",
       "      <td>20</td>\n",
       "      <td>4</td>\n",
       "      <td>4</td>\n",
       "      <td>13</td>\n",
       "      <td>12</td>\n",
       "    </tr>\n",
       "    <tr>\n",
       "      <th>Less than secondary (high) school</th>\n",
       "      <td>20</td>\n",
       "      <td>3</td>\n",
       "      <td>81</td>\n",
       "      <td>7</td>\n",
       "      <td>2</td>\n",
       "      <td>12</td>\n",
       "    </tr>\n",
       "    <tr>\n",
       "      <th>Master's degree</th>\n",
       "      <td>677</td>\n",
       "      <td>34</td>\n",
       "      <td>60</td>\n",
       "      <td>37</td>\n",
       "      <td>9</td>\n",
       "      <td>35</td>\n",
       "    </tr>\n",
       "    <tr>\n",
       "      <th>Secondary (high) school graduate or equivalent</th>\n",
       "      <td>101</td>\n",
       "      <td>25</td>\n",
       "      <td>193</td>\n",
       "      <td>20</td>\n",
       "      <td>6</td>\n",
       "      <td>29</td>\n",
       "    </tr>\n",
       "    <tr>\n",
       "      <th>Some college, no degree</th>\n",
       "      <td>353</td>\n",
       "      <td>56</td>\n",
       "      <td>136</td>\n",
       "      <td>28</td>\n",
       "      <td>13</td>\n",
       "      <td>53</td>\n",
       "    </tr>\n",
       "    <tr>\n",
       "      <th>Vocational/trade program or apprenticeship</th>\n",
       "      <td>79</td>\n",
       "      <td>10</td>\n",
       "      <td>16</td>\n",
       "      <td>5</td>\n",
       "      <td>8</td>\n",
       "      <td>9</td>\n",
       "    </tr>\n",
       "  </tbody>\n",
       "</table>\n",
       "</div>"
      ],
      "text/plain": [
       "EMPLOYMENT.STATUS                                   Employed full time  \\\n",
       "FORMAL.EDUCATION                                                         \n",
       "Bachelor's degree                                                  961   \n",
       "Doctorate (Ph.D.) or other advanced degree (e.g...                 203   \n",
       "Less than secondary (high) school                                   20   \n",
       "Master's degree                                                    677   \n",
       "Secondary (high) school graduate or equivalent                     101   \n",
       "Some college, no degree                                            353   \n",
       "Vocational/trade program or apprenticeship                          79   \n",
       "\n",
       "EMPLOYMENT.STATUS                                   Employed part time  \\\n",
       "FORMAL.EDUCATION                                                         \n",
       "Bachelor's degree                                                   72   \n",
       "Doctorate (Ph.D.) or other advanced degree (e.g...                  20   \n",
       "Less than secondary (high) school                                    3   \n",
       "Master's degree                                                     34   \n",
       "Secondary (high) school graduate or equivalent                      25   \n",
       "Some college, no degree                                             56   \n",
       "Vocational/trade program or apprenticeship                          10   \n",
       "\n",
       "EMPLOYMENT.STATUS                                   Full time student  \\\n",
       "FORMAL.EDUCATION                                                        \n",
       "Bachelor's degree                                                 172   \n",
       "Doctorate (Ph.D.) or other advanced degree (e.g...                  4   \n",
       "Less than secondary (high) school                                  81   \n",
       "Master's degree                                                    60   \n",
       "Secondary (high) school graduate or equivalent                    193   \n",
       "Some college, no degree                                           136   \n",
       "Vocational/trade program or apprenticeship                         16   \n",
       "\n",
       "EMPLOYMENT.STATUS                                   Other - please describe  \\\n",
       "FORMAL.EDUCATION                                                              \n",
       "Bachelor's degree                                                        30   \n",
       "Doctorate (Ph.D.) or other advanced degree (e.g...                        4   \n",
       "Less than secondary (high) school                                         7   \n",
       "Master's degree                                                          37   \n",
       "Secondary (high) school graduate or equivalent                           20   \n",
       "Some college, no degree                                                  28   \n",
       "Vocational/trade program or apprenticeship                                5   \n",
       "\n",
       "EMPLOYMENT.STATUS                                   Retired or permanently not working (e.g. due to disability)  \\\n",
       "FORMAL.EDUCATION                                                                                                  \n",
       "Bachelor's degree                                                                                  17             \n",
       "Doctorate (Ph.D.) or other advanced degree (e.g...                                                 13             \n",
       "Less than secondary (high) school                                                                   2             \n",
       "Master's degree                                                                                     9             \n",
       "Secondary (high) school graduate or equivalent                                                      6             \n",
       "Some college, no degree                                                                            13             \n",
       "Vocational/trade program or apprenticeship                                                          8             \n",
       "\n",
       "EMPLOYMENT.STATUS                                   Temporarily not working  \n",
       "FORMAL.EDUCATION                                                             \n",
       "Bachelor's degree                                                        67  \n",
       "Doctorate (Ph.D.) or other advanced degree (e.g...                       12  \n",
       "Less than secondary (high) school                                        12  \n",
       "Master's degree                                                          35  \n",
       "Secondary (high) school graduate or equivalent                           29  \n",
       "Some college, no degree                                                  53  \n",
       "Vocational/trade program or apprenticeship                                9  "
      ]
     },
     "execution_count": 56,
     "metadata": {},
     "output_type": "execute_result"
    }
   ],
   "source": [
    "edu_df = df[[\"FORMAL.EDUCATION\", \"EMPLOYMENT.STATUS\"]]\n",
    "edu_table = pd.crosstab(edu_df[\"FORMAL.EDUCATION\"], edu_df[\"EMPLOYMENT.STATUS\"])\n",
    "edu_table"
   ]
  },
  {
   "cell_type": "markdown",
   "metadata": {},
   "source": [
    "Reviewing the above table, it becomes clear that across the most frequent employment status of respondents is <tt>employed full time</tt> with two notable exceptions: <tt>less than secondary (high) school</tt> and <tt>secondary (high) school graduate or equivalent</tt>. These two categories both have the most frequent response of <tt>full time student</tt>, which is logical as respondents from these groups are most likely still in secondary school or university. Let's calculate some statistics to get a better understanding of the state above."
   ]
  },
  {
   "cell_type": "code",
   "execution_count": 57,
   "metadata": {},
   "outputs": [
    {
     "name": "stdout",
     "output_type": "stream",
     "text": [
      "Percentage of Doctorate (or similar) holders who are employed full time: 79.30%\n",
      "Percentage of Master's degree holders who are employed full time: 79.46%\n",
      "Percentage of Bachelor's degree holders who are employed full time: 72.86%\n",
      "Percentage of those who apprenticed or went to trade school who are employed full time: 62.20%\n",
      "\n",
      "Percentage of those who attended college but did not obtain a degree who are employed full time: 55.24%\n",
      "Percentage of GED (or equivalent) holders who are employed full time: 27.01%\n",
      "Percentage of those who did not complete secondary school who are employed full time: 16.00%\n"
     ]
    }
   ],
   "source": [
    "edu = edu_df.groupby(\"FORMAL.EDUCATION\")\n",
    "\n",
    "bsc_count = edu.count().at['Bachelor\\'s degree', 'EMPLOYMENT.STATUS'] # note that bsc is just a var name,\n",
    "msc_count = edu.count().at['Master\\'s degree', 'EMPLOYMENT.STATUS'] # they might have other types of degrees\n",
    "phd_count = edu.count().at['Doctorate (Ph.D.) or other advanced degree (e.g. M.D., J.D.)', 'EMPLOYMENT.STATUS']\n",
    "ged_count = edu.count().at['Secondary (high) school graduate or equivalent', 'EMPLOYMENT.STATUS']\n",
    "nod_count = edu.count().at['Some college, no degree', 'EMPLOYMENT.STATUS']\n",
    "noh_count = edu.count().at['Less than secondary (high) school', 'EMPLOYMENT.STATUS']\n",
    "voc_count = edu.count().at['Vocational/trade program or apprenticeship', 'EMPLOYMENT.STATUS']\n",
    "\n",
    "bsc_full_count = edu_table.at['Bachelor\\'s degree', 'Employed full time']\n",
    "msc_full_count = edu_table.at['Master\\'s degree', 'Employed full time']\n",
    "phd_full_count = edu_table.at['Doctorate (Ph.D.) or other advanced degree (e.g. M.D., J.D.)', 'Employed full time']\n",
    "ged_full_count = edu_table.at['Secondary (high) school graduate or equivalent', 'Employed full time']\n",
    "nod_full_count = edu_table.at['Some college, no degree', 'Employed full time']\n",
    "noh_full_count = edu_table.at['Less than secondary (high) school', 'Employed full time']\n",
    "voc_full_count = edu_table.at['Vocational/trade program or apprenticeship', 'Employed full time']\n",
    "\n",
    "bsc_percent = percentage(bsc_full_count, bsc_count)\n",
    "msc_percent = percentage(msc_full_count, msc_count)\n",
    "phd_percent = percentage(phd_full_count, phd_count)\n",
    "ged_percent = percentage(ged_full_count, ged_count)\n",
    "nod_percent = percentage(nod_full_count, nod_count)\n",
    "noh_percent = percentage(noh_full_count, noh_count)\n",
    "voc_percent = percentage(voc_full_count, voc_count)\n",
    "\n",
    "print(\"Percentage of Doctorate (or similar) holders who are employed full time: {0:.2f}%\".format(phd_percent))\n",
    "print(\"Percentage of Master's degree holders who are employed full time: {0:.2f}%\".format(msc_percent))\n",
    "print(\"Percentage of Bachelor's degree holders who are employed full time: {0:.2f}%\".format(bsc_percent))\n",
    "print(\"Percentage of those who apprenticed or went to trade school who are employed full time: {0:.2f}%\\n\".format(voc_percent))\n",
    "print(\"Percentage of those who attended college but did not obtain a degree who are employed full time: {0:.2f}%\".format(nod_percent))\n",
    "print(\"Percentage of GED (or equivalent) holders who are employed full time: {0:.2f}%\".format(ged_percent))\n",
    "print(\"Percentage of those who did not complete secondary school who are employed full time: {0:.2f}%\".format(noh_percent))"
   ]
  },
  {
   "cell_type": "markdown",
   "metadata": {},
   "source": [
    "The above print out statements have been divided into two groups: completed higher education (above), and have not (below). Interestingly, as the difficulty of obtaining a degree increases, so does the percentage of those with that degree classification who are employed full time. In other words, a doctorate is harder to achieve than a GED (high school diploma); likewise, those respondents who have obtained a doctorate are more likely to be employed full time than those who have only obtained their GED.\n",
    "\n",
    "Let's make a more informative display of the statistics above."
   ]
  },
  {
   "cell_type": "code",
   "execution_count": 58,
   "metadata": {},
   "outputs": [
    {
     "data": {
      "image/png": "[encoded data removed]",
      "text/plain": [
       "<Figure size 720x576 with 1 Axes>"
      ]
     },
     "metadata": {
      "needs_background": "light"
     },
     "output_type": "display_data"
    }
   ],
   "source": [
    "# create a list of the percentage of respondents who are employed full time by highest level of education\n",
    "perc_f_emp_by_degree = [noh_percent, ged_percent, nod_percent, voc_percent,\n",
    "                        bsc_percent, msc_percent, phd_percent]\n",
    "labels = [\"Did not complete secondary\", \"GED\", \"Attended uni, no degree\", \n",
    "          \"Apprenticed\", \"Bachelor's\", \"Master's\", \"Doctorate\"]\n",
    "\n",
    "# create the date plot\n",
    "fig, ax = plt.subplots(figsize=(10,8))\n",
    "ax.bar(range(len(perc_f_emp_by_degree)), perc_f_emp_by_degree)\n",
    "\n",
    "# add labels\n",
    "ax.set_title('Percentage of respondents who are employed full time by their highest level of education')\n",
    "ax.set_xlabel('Degree classification')\n",
    "ax.set_xticks(np.arange(len(labels)))\n",
    "ax.set_xticklabels(labels, rotation=45)\n",
    "ax.set_ylabel('Number of respondents')\n",
    "\n",
    "# display the timeline\n",
    "plt.show()"
   ]
  },
  {
   "cell_type": "markdown",
   "metadata": {},
   "source": [
    "The above bar graph clearly displays a trend: the more education a respondent has completed, the more likley they are to be employed full time. In conclusion, this suggests that parents are making a smart and informed decision when urging their children to attend university."
   ]
  },
  {
   "cell_type": "markdown",
   "metadata": {},
   "source": [
    "## Conclusion\n",
    "\n",
    "With more time, we would have liked to have analysed the additional data set on negative incidents. Additionally, if we had more time, producing a parser for the questionnaire logic would have greatly improved the reusability of this notebook.\n",
    "\n",
    "### A Note on Reproducibility and Reusability\n",
    "\n",
    "The data produced in the above notebook should be reproducible so long as all dependencies are met. Unfortunately, as we did not have time to develop a questionnaire logic parser, the cleaning and refinement process is not fully reusable. Assuming a similar set of data with the same column names exists, the data analysis would be runnable on that set as well (as we avoided directly accessing a cell by an absolute index).\n",
    "\n",
    "### A Note on Contribution and Code Provenance\n",
    "\n",
    "All code adapted from outside resources has a link to the page from which the original code was taken. We have only adapted code in the instance of generating diagrams.\n",
    "\n",
    "The division of work for this project is more difficult to break down absolutely. Original allocations were as follows: 170005146 was to complete the descriptive analysis section of the basic specifications and any extensions they were interested in. 170000801 was to complete the data refinement and produce the diagrams for the basic specification and any additional extensions not already completed by 170005146. Ultimately, the extensions ended up being a joint effort and 170000801 wrote the analyses and integrated report."
   ]
  }
 ],
 "metadata": {
  "kernelspec": {
   "display_name": "Python 3",
   "language": "python",
   "name": "python3"
  },
  "language_info": {
   "codemirror_mode": {
    "name": "ipython",
    "version": 3
   },
   "file_extension": ".py",
   "mimetype": "text/x-python",
   "name": "python",
   "nbconvert_exporter": "python",
   "pygments_lexer": "ipython3",
   "version": "3.7.3"
  }
 },
 "nbformat": 4,
 "nbformat_minor": 1
}
